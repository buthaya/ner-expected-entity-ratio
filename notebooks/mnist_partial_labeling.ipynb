{
 "cells": [
  {
   "cell_type": "code",
   "execution_count": 40,
   "metadata": {},
   "outputs": [
    {
     "name": "stdout",
     "output_type": "stream",
     "text": [
      "The autoreload extension is already loaded. To reload it, use:\n",
      "  %reload_ext autoreload\n"
     ]
    }
   ],
   "source": [
    "%load_ext autoreload\n",
    "%autoreload 2\n",
    "import os, random\n",
    "import numpy as np\n",
    "import torch\n",
    "import dataset_loader\n",
    "\n",
    "import torch\n",
    "import torch.nn as nn\n",
    "import torch.nn.functional as F\n",
    "from tqdm import tqdm\n",
    "device = torch.device(\"cuda:0\" if torch.cuda.is_available() else \"cpu\") "
   ]
  },
  {
   "cell_type": "code",
   "execution_count": 4,
   "metadata": {},
   "outputs": [],
   "source": [
    "# Download mnist dataset \n",
    "if(\"mnist.pkl.gz\" not in os.listdir(\".\")):\n",
    "    !wget http://deeplearning.net/data/mnist/mnist.pkl.gz\n",
    "\n",
    "# if you have it somewhere else, you can comment the lines above\n",
    "# and overwrite the path below\n",
    "mnist_path = \"./mnist.pkl.gz\"\n",
    "\n",
    "# load the 3 splits\n",
    "train_data, dev_data, test_data = dataset_loader.load_mnist(mnist_path)\n",
    "\n",
    "def build_torch_inputs(data):\n",
    "    x, y = data\n",
    "    ret = list()\n",
    "    \n",
    "    for i in range(x.shape[0]):\n",
    "        input_tensor = torch.from_numpy(x[i]).reshape(1, -1)\n",
    "        output_value = int(y[i])\n",
    "        \n",
    "        ret.append({\n",
    "            \"input_tensor\": input_tensor,\n",
    "            \"output_value\": output_value\n",
    "        })\n",
    "        \n",
    "    return ret\n",
    "        \n",
    "train_data = build_torch_inputs(train_data)\n",
    "dev_data = build_torch_inputs(dev_data)\n",
    "test_data = build_torch_inputs(test_data)"
   ]
  },
  {
   "cell_type": "code",
   "execution_count": 5,
   "metadata": {},
   "outputs": [],
   "source": [
    "# just a helper function\n",
    "def build_batch(data):\n",
    "    batch_inputs = torch.cat(\n",
    "        [data[\"input_tensor\"] for data in data],\n",
    "        dim=0\n",
    "    )\n",
    "\n",
    "    labels = torch.LongTensor([data[\"output_value\"] for data in data ])\n",
    "    \n",
    "    return batch_inputs, labels"
   ]
  },
  {
   "cell_type": "code",
   "execution_count": 6,
   "metadata": {},
   "outputs": [],
   "source": [
    "# A network network is a class extending nn.Module\n",
    "class MLPClassifier(nn.Module):\n",
    "    def __init__(self, input_dim, hidden_dim, output_dim):\n",
    "        super().__init__()\n",
    "        self.hidden_proj = nn.Linear(input_dim, hidden_dim)\n",
    "        self.output_proj = nn.Linear(hidden_dim, output_dim)\n",
    "                \n",
    "        with torch.no_grad():\n",
    "            torch.nn.init.kaiming_uniform_(hidden_proj.weight.data)\n",
    "            torch.nn.init.kaiming_uniform_(output_proj.weight.data)\n",
    "            \n",
    "            self.hidden_proj.bias.zero_()\n",
    "            self.output_proj.bias.zero_()\n",
    "        \n",
    "    def forward(self, inputs):\n",
    "        z = self.hidden_proj(inputs)\n",
    "        z = torch.relu(z)\n",
    "        return self.output_proj(z)"
   ]
  },
  {
   "cell_type": "code",
   "execution_count": null,
   "metadata": {},
   "outputs": [
    {
     "name": "stdout",
     "output_type": "stream",
     "text": [
      "F.nll_loss : 18543.1171875\n",
      "tensor([427784.6875, 154292.2500, 260127.5938, 194384.1094])\n",
      "nll_loss_custom : 18543.1171875\n",
      "tensor([427784.6875, 154292.2500, 260127.5938, 194384.1094])\n",
      "nll_loss_custom perfect pred : 0.0\n"
     ]
    }
   ],
   "source": [
    "logits = torch.tensor([\n",
    "    [432699.1875, 300807.1250, 389614.0312, 396122.1562, 410441.5625, 280411.0000, 426984.9375, 382853.3750, 427784.6875, 344430.3125],\n",
    "    [174335.7188, 121234.3125, 156996.5781, 159618.2188, 165396.4844, 112990.3438, 172047.2812, 154292.2500, 172379.9531, 138800.5625],\n",
    "    [284093.5625, 197565.0625, 255842.6250, 260127.5938, 269514.0312, 184131.4375, 280361.3125, 251412.3125, 280909.1250, 226173.8438],\n",
    "    [219632.6406, 152675.4844, 197763.0312, 201069.3125, 208362.4062, 142334.1094, 216726.0625, 194384.1094, 217143.9688, 174859.1250],\n",
    "    ])\n",
    "\n",
    "labels = torch.tensor([8, 7, 3, 7], dtype=int)\n",
    "\n",
    "perfect_logits = torch.tensor([\n",
    "    [0, 0, 0, 0, 0, 0, 0, 0, 427784.6875, 0],\n",
    "    [0, 0, 0, 0, 0, 0, 0, 154292.2500, 0, 0],\n",
    "    [0, 0, 0, 260127.5938, 0, 0, 0, 0, 0, 0],\n",
    "    [0, 0, 0, 0, 0, 0, 0, 194384.1094, 0, 0]\n",
    "    ])\n",
    "\n",
    "def nll_loss_custom(logits, labels):\n",
    "    # Calculate the range of indices for the batch elements  \n",
    "    batch_indices = range(logits.shape[0])\n",
    "    # Select the logit for the correct label of each batch element  \n",
    "    selected_logits = logits[batch_indices, labels]\n",
    "    # Use the logsumexp function to calculate the log of the sum of exponentials of the logits  \n",
    "    log_sum_exp = torch.logsumexp(logits, dim=1)\n",
    "    # Calculate the mean negative log likelihood loss for the batch  \n",
    "    loss = - selected_logits + log_sum_exp\n",
    "    return loss.mean()\n",
    "\n",
    "\n",
    "print(f\"F.nll_loss : {F.nll_loss(F.log_softmax(logits, dim=1), labels,reduction='mean')}\")\n",
    "# print(f'nll_loss_custom : {nll_loss_custom(F.log_softmax(logits, dim=1), labels)}')\n",
    "print(f'nll_loss_custom : {nll_loss_custom(logits, labels)}')\n",
    "print(f'nll_loss_custom perfect pred : {nll_loss_custom(perfect_logits, labels)}')\n",
    "\n",
    "# assert F.nll_loss(logits, labels) == nll_loss_custom(logits, labels)\n",
    "\n"
   ]
  },
  {
   "cell_type": "code",
   "execution_count": null,
   "metadata": {},
   "outputs": [
    {
     "name": "stdout",
     "output_type": "stream",
     "text": [
      "1 / 10\n",
      "Dev acc: 94.16\n",
      "2 / 10\n",
      "Dev acc: 95.72\n",
      "3 / 10\n",
      "Dev acc: 96.25\n",
      "4 / 10\n",
      "Dev acc: 96.63\n",
      "5 / 10\n",
      "Dev acc: 97.10\n",
      "6 / 10\n",
      "Dev acc: 97.16\n",
      "7 / 10\n",
      "Dev acc: 97.16\n",
      "8 / 10\n",
      "Dev acc: 97.45\n",
      "9 / 10\n",
      "Dev acc: 97.41\n",
      "10 / 10\n",
      "Dev acc: 97.61\n"
     ]
    }
   ],
   "source": [
    "# Example of a training loop! :)\n",
    "\n",
    "# hyper-parameters\n",
    "n_epochs = 10\n",
    "batch_size = 5\n",
    "\n",
    "# Build the network\n",
    "network = MLPClassifier(784, 200, 10)\n",
    "if torch.cuda.is_available(): network.to(device)\n",
    "\n",
    "optimizer = torch.optim.SGD(network.parameters(), lr=1e-3, momentum=0.9)\n",
    "\n",
    "for epoch in range(n_epochs):\n",
    "    print(\"%i / %i\" % (epoch+1, n_epochs))\n",
    "    \n",
    "    random.shuffle(train_data)\n",
    "    \n",
    "    network.train()\n",
    "    \n",
    "    for first_element in range(0, len(train_data), batch_size):\n",
    "        optimizer.zero_grad()\n",
    "        \n",
    "        batch_input, labels = build_batch(train_data[first_element:first_element + batch_size])\n",
    "        if torch.cuda.is_available(): labels = labels.to(device)\n",
    "        if torch.cuda.is_available(): logits = network(batch_input)          \n",
    "        logits = network(batch_input)\n",
    "        # Modified loss to take into account partial labeling\n",
    "        loss = nll_loss_custom(logits, labels)\n",
    "        \n",
    "        loss.backward()\n",
    "\n",
    "        optimizer.step()\n",
    "        \n",
    "    n_correct = 0\n",
    "    with torch.no_grad(): \n",
    "        network.eval()\n",
    "        \n",
    "        for first_element in range(0, len(dev_data), batch_size):\n",
    "            optimizer.zero_grad()\n",
    "\n",
    "            batch_input, labels = build_batch(dev_data[first_element:first_element + batch_size])\n",
    "            if torch.cuda.is_available(): labels = labels.to(device)\n",
    "            if torch.cuda.is_available(): logits = network(batch_input)  \n",
    "            logits = network(batch_input)\n",
    "            \n",
    "            prediction = logits.argmax(dim=1)\n",
    "            \n",
    "            n_correct += (prediction == labels).sum().item()\n",
    "\n",
    "    print(\"Dev acc: %.2f\" % (100 * n_correct / len(dev_data)))"
   ]
  },
  {
   "cell_type": "markdown",
   "metadata": {},
   "source": [
    "# Partial labeling"
   ]
  },
  {
   "cell_type": "code",
   "execution_count": 7,
   "metadata": {},
   "outputs": [
    {
     "name": "stdout",
     "output_type": "stream",
     "text": [
      "Before adding noise :  [1, 7, 4, 6, 4, 1, 8, 5, 9, 3, 9, 4, 4, 4, 5, 0, 7, 8, 9, 6, 5, 4, 5, 1, 9, 5, 4, 7, 6, 6, 0, 0, 4, 8, 4, 9, 4, 8, 1, 7, 5, 2, 5, 5, 6, 4, 6, 9, 5, 5]\n",
      "After adding noise :  [[1], [7], [4], [8, 0, 6], [9, 4, 1], [1], [8], [5], [9], [0, 3, 7], [4, 3, 9], [4], [4], [4], [5], [1, 0, 3], [7], [8], [9], [6], [5], [4], [7, 5, 4], [1, 7, 3], [9], [5], [4], [7], [6], [3, 6, 9], [0], [0], [4, 8, 0], [8], [4], [9], [4], [8], [1], [7], [5], [2], [5], [5, 0, 4], [6], [4], [6], [9, 1, 8], [5], [5]]\n"
     ]
    }
   ],
   "source": [
    "print('Before adding noise : ', [data['output_value'] for data in train_data][:50])\n",
    "\n",
    "# Add noise in data, meaning instead of one label for 'output_value', we will have 3 labels in 30% of the cases\n",
    "def add_noise(data):\n",
    "    for i in range(len(data)):\n",
    "        if(random.random() < 0.3):\n",
    "            range_sample = list(range(10))\n",
    "            range_sample.remove(data[i][\"output_value\"])\n",
    "            new_samples = random.sample(range_sample, 2)\n",
    "            new_label = [data[i][\"output_value\"], new_samples[0], new_samples[1]]\n",
    "            random.shuffle(new_label)\n",
    "            data[i][\"output_value\"] = new_label\n",
    "        else:\n",
    "            label = data[i]['output_value']\n",
    "            data[i]['output_value'] = [label]\n",
    "    return data\n",
    "\n",
    "train_data = add_noise(train_data)\n",
    "\n",
    "print('After adding noise : ', [data['output_value'] for data in train_data][:50])\n"
   ]
  },
  {
   "cell_type": "code",
   "execution_count": null,
   "metadata": {},
   "outputs": [
    {
     "name": "stdout",
     "output_type": "stream",
     "text": [
      "labels one hot : tensor([[0, 0, 0, 0, 0, 0, 0, 0, 1, 0],\n",
      "        [0, 0, 1, 0, 0, 0, 0, 1, 0, 0],\n",
      "        [1, 0, 0, 1, 0, 0, 0, 0, 1, 0],\n",
      "        [0, 0, 0, 0, 0, 0, 0, 1, 0, 0]])\n",
      "nll_loss_marginalized : 11875.54296875\n",
      "nll_loss_marginalized perfect prediction : 0.0\n"
     ]
    }
   ],
   "source": [
    "logits = torch.tensor([\n",
    "    [432699.1875, 300807.1250, 389614.0312, 396122.1562, 410441.5625, 280411.0000, 426984.9375, 382853.3750, 427784.6875, 344430.3125],\n",
    "    [174335.7188, 121234.3125, 156996.5781, 159618.2188, 165396.4844, 112990.3438, 172047.2812, 154292.2500, 172379.9531, 138800.5625],\n",
    "    [284093.5625, 197565.0625, 255842.6250, 260127.5938, 269514.0312, 184131.4375, 280361.3125, 251412.3125, 280909.1250, 226173.8438],\n",
    "    [219632.6406, 152675.4844, 197763.0312, 201069.3125, 208362.4062, 142334.1094, 216726.0625, 194384.1094, 217143.9688, 174859.1250],\n",
    "    ])\n",
    "\n",
    "\n",
    "\n",
    "perfect_logits = torch.tensor([\n",
    "    [0, 0, 0, 0, 0, 0, 0, 0, 427784.6875, 0],\n",
    "    [0, 0, 156996.5781, 0, 0, 0, 0, 154292.2500, 0, 0],\n",
    "    [284093.5625, 0, 0, 260127.5938, 0, 0, 0, 251412.3125, 0, 0],\n",
    "    [0, 0, 0, 0, 0, 0, 0, 194384.1094, 0, 0]\n",
    "    ])\n",
    "\n",
    "# Define the number of classes  \n",
    "num_classes = logits.shape[1]  \n",
    "\n",
    "# Create a tensor of labels  \n",
    "labels = [[8], [7, 2], [3, 8, 0], [7]]\n",
    "# print(f'labels : {labels}')\n",
    "tensor_labels = list()\n",
    "for ls in labels:\n",
    "    t = torch.zeros(num_classes, dtype=torch.long)\n",
    "    t[ls] = 1\n",
    "    tensor_labels.append(t)\n",
    "tensor_labels = torch.stack(tensor_labels)\n",
    "print(f'labels one hot : {tensor_labels}')\n",
    "\n",
    "def nll_loss_marginalized(logits, labels):\n",
    "    mask = torch.zeros_like(logits)\n",
    "    mask[labels==0]=float(\"-inf\")\n",
    "    # Select the logit for the correct label/set of labels of each batch element\n",
    "    selected_logits = logits + mask\n",
    "    log_sum_exp_selected_logits = torch.logsumexp(selected_logits, dim=1)\n",
    "    # Use the logsumexp function to calculate the log of the sum of exponentials of the logits  \n",
    "    log_sum_exp = torch.logsumexp(logits, dim=1)\n",
    "    # Calculate the mean negative log likelihood loss for the batch  \n",
    "    loss = - log_sum_exp_selected_logits + log_sum_exp\n",
    "    return loss.mean()\n",
    "\n",
    "print(f'nll_loss_marginalized : {nll_loss_marginalized(logits, tensor_labels)}')\n",
    "print(f'nll_loss_marginalized perfect prediction : {nll_loss_marginalized(perfect_logits, tensor_labels)}')\n"
   ]
  },
  {
   "cell_type": "code",
   "execution_count": null,
   "metadata": {},
   "outputs": [
    {
     "name": "stdout",
     "output_type": "stream",
     "text": [
      "After adding noise :  [[5], [4], [4], [3], [5]]\n",
      "tensor([[0, 0, 0, 0, 0, 1, 0, 0, 0, 0],\n",
      "        [0, 0, 0, 0, 1, 0, 0, 0, 0, 0],\n",
      "        [0, 0, 0, 0, 1, 0, 0, 0, 0, 0],\n",
      "        [0, 0, 0, 1, 0, 0, 0, 0, 0, 0],\n",
      "        [0, 0, 0, 0, 0, 1, 0, 0, 0, 0]])\n"
     ]
    }
   ],
   "source": [
    "def build_batch_noised(data, num_classes):\n",
    "    batch_inputs = torch.cat(\n",
    "        [data[\"input_tensor\"] for data in data],\n",
    "        dim=0\n",
    "    )\n",
    "\n",
    "    labels = [data[\"output_value\"] for data in data]\n",
    "\n",
    "    labels = [F.one_hot(torch.tensor(l), num_classes =num_classes) if isinstance(l,int) else sum(F.one_hot(torch.tensor(l), num_classes =num_classes)) for l in labels]\n",
    "    labels = torch.stack(labels)\n",
    "    \n",
    "    return batch_inputs, labels\n",
    "print('After adding noise : ', [data['output_value'] for data in train_data][:5])\n",
    "print(build_batch_noised(train_data[:5], 10)[1])"
   ]
  },
  {
   "cell_type": "code",
   "execution_count": null,
   "metadata": {},
   "outputs": [
    {
     "name": "stdout",
     "output_type": "stream",
     "text": [
      "1 / 10\n",
      "Dev acc: 89.16\n",
      "2 / 10\n",
      "Dev acc: 90.78\n",
      "3 / 10\n",
      "Dev acc: 91.71\n",
      "4 / 10\n",
      "Dev acc: 92.24\n",
      "5 / 10\n",
      "Dev acc: 92.74\n",
      "6 / 10\n",
      "Dev acc: 93.06\n",
      "7 / 10\n",
      "Dev acc: 93.41\n",
      "8 / 10\n",
      "Dev acc: 93.74\n",
      "9 / 10\n",
      "Dev acc: 94.22\n",
      "10 / 10\n",
      "Dev acc: 94.36\n"
     ]
    },
    {
     "data": {
      "image/png": "[encoded data removed]",
      "text/plain": [
       "<Figure size 640x480 with 1 Axes>"
      ]
     },
     "metadata": {},
     "output_type": "display_data"
    },
    {
     "data": {
      "image/png": "[encoded data removed]",
      "text/plain": [
       "<Figure size 640x480 with 1 Axes>"
      ]
     },
     "metadata": {},
     "output_type": "display_data"
    }
   ],
   "source": [
    "import matplotlib.pyplot as plt  \n",
    "  \n",
    "def count_correct_preds(predictions_one_hot, labels):  \n",
    "    num_correct = 0    \n",
    "    for i in range(predictions_one_hot.size(0)):    \n",
    "        pred = torch.argmax(predictions_one_hot[i])    \n",
    "        label = torch.nonzero(labels[i]).flatten()    \n",
    "        if pred in label:    \n",
    "            num_correct += 1    \n",
    "    return num_correct    \n",
    "  \n",
    "# hyper-parameters  \n",
    "batch_size = 5\n",
    "  \n",
    "# Build the network  \n",
    "network = MLPClassifier(784, 200, 10)  \n",
    "if torch.cuda.is_available(): network.to(device)\n",
    "\n",
    "optimizer = torch.optim.SGD(network.parameters(), lr=1e-3, momentum=0.1)  \n",
    "  \n",
    "train_losses = []  \n",
    "dev_accs = []  \n",
    "  \n",
    "for epoch in range(n_epochs):  \n",
    "    print(\"%i / %i\" % (epoch+1, n_epochs))  \n",
    "      \n",
    "    random.shuffle(train_data)  \n",
    "      \n",
    "    network.train()  \n",
    "    train_loss = 0\n",
    "      \n",
    "    for first_element in range(0, len(train_data), batch_size):  \n",
    "        optimizer.zero_grad()  \n",
    "          \n",
    "        batch_input, labels = build_batch_noised(train_data[first_element:first_element + batch_size], 10)  \n",
    "        if torch.cuda.is_available(): batch_input = batch_input.to(device)\n",
    "        if torch.cuda.is_available(): labels = labels.to(device)\n",
    "        logits = network(batch_input)  \n",
    "        # Modified loss to take into account partial labeling  \n",
    "        loss = nll_loss_marginalized(logits, labels)  \n",
    "        loss.backward()  \n",
    "  \n",
    "        optimizer.step()  \n",
    "          \n",
    "        train_loss += loss.item()  \n",
    "          \n",
    "    train_losses.append(train_loss / len(train_data))  \n",
    "    n_correct = 0  \n",
    "    with torch.no_grad():   \n",
    "        network.eval()  \n",
    "          \n",
    "        for first_element in range(0, len(dev_data), batch_size):  \n",
    "            batch_input, labels = build_batch_noised(dev_data[first_element:first_element + batch_size], 10)  \n",
    "            if torch.cuda.is_available(): batch_input = batch_input.to(device)\n",
    "            if torch.cuda.is_available(): labels = labels.to(device)\n",
    "            logits = network(batch_input)  \n",
    "              \n",
    "            prediction = logits.argmax(dim=1)  \n",
    "              \n",
    "            n_correct += count_correct_preds(F.one_hot(prediction, num_classes=10), labels)  \n",
    "  \n",
    "    dev_acc = 100 * n_correct / len(dev_data)  \n",
    "    dev_accs.append(dev_acc)  \n",
    "    print(\"Dev acc: %.2f\" % dev_acc)\n",
    "      \n",
    "# Plot the training loss and dev accuracy  \n",
    "plt.plot(train_losses)  \n",
    "plt.title('Training Loss')  \n",
    "plt.xlabel('Epoch')  \n",
    "plt.ylabel('Loss')  \n",
    "plt.show()  \n",
    "  \n",
    "plt.plot(dev_accs)  \n",
    "plt.title('Dev Accuracy')  \n",
    "plt.xlabel('Epoch')  \n",
    "plt.ylabel('Accuracy')  \n",
    "plt.show()  \n"
   ]
  },
  {
   "cell_type": "code",
   "execution_count": null,
   "metadata": {},
   "outputs": [
    {
     "data": {
      "image/png": "[encoded data removed]",
      "text/plain": [
       "<Figure size 640x480 with 1 Axes>"
      ]
     },
     "metadata": {},
     "output_type": "display_data"
    },
    {
     "data": {
      "image/png": "[encoded data removed]",
      "text/plain": [
       "<Figure size 640x480 with 1 Axes>"
      ]
     },
     "metadata": {},
     "output_type": "display_data"
    }
   ],
   "source": [
    "import torch\n",
    "import torch.nn as nn\n",
    "import torch.optim as optim\n",
    "import matplotlib.pyplot as plt\n",
    "\n",
    "import transformers\n",
    "\n",
    "n_epochs = 100\n",
    "\n",
    "model = nn.Linear(10, 5)\n",
    "optimizer = optim.SGD(model.parameters(), lr=100)\n",
    "lambda1 = lambda epoch: 0.95 ** epoch\n",
    "scheduler = optim.lr_scheduler.LambdaLR(optimizer, lambda1)\n",
    "\n",
    "lrs = []\n",
    "for i in range(n_epochs):\n",
    "    optimizer.step()\n",
    "    lrs.append(optimizer.param_groups[0][\"lr\"])\n",
    "    scheduler.step()\n",
    "    \n",
    "plt.plot(lrs)\n",
    "plt.show()\n",
    "\n",
    "# ---------------------------------------------------------------------------\n",
    "total_samples = 968\n",
    "bs = 32\n",
    "n_epochs = 10\n",
    "\n",
    "num_warmup_steps = (total_samples // bs) * 2\n",
    "num_total_steps = (total_samples // bs) * n_epochs\n",
    "\n",
    "model = nn.Linear(2, 1)\n",
    "optimizer = optim.SGD(model.parameters(), lr=0.01)\n",
    "scheduler = transformers.get_cosine_schedule_with_warmup(optimizer, \n",
    "                                                         num_warmup_steps=num_warmup_steps, \n",
    "                                                         num_training_steps=num_total_steps)\n",
    "lrs = []\n",
    "for i in range(num_total_steps):\n",
    "    optimizer.step()\n",
    "    lrs.append(optimizer.param_groups[0][\"lr\"])\n",
    "    scheduler.step()\n",
    "    \n",
    "plt.plot(lrs)\n",
    "plt.show()"
   ]
  },
  {
   "cell_type": "markdown",
   "metadata": {},
   "source": [
    "# Partial Labeling with ratio constraints"
   ]
  },
  {
   "cell_type": "code",
   "execution_count": null,
   "metadata": {},
   "outputs": [
    {
     "name": "stdout",
     "output_type": "stream",
     "text": [
      "labels one hot : tensor([[0, 0, 0, 0, 0, 0, 0, 0, 1, 0],\n",
      "        [0, 0, 1, 0, 0, 0, 0, 1, 0, 0],\n",
      "        [1, 0, 0, 1, 0, 0, 0, 0, 1, 0],\n",
      "        [0, 0, 0, 0, 0, 0, 0, 1, 0, 0]])\n"
     ]
    }
   ],
   "source": [
    "preds = torch.tensor([[0.91256185, 0.17851141, 0.22250389, 0.33196032, 0.39393268,0.06549098, 0.67783285, 0.45183095, 0.45786714, 0.40165077],\n",
    "       [0.70385266, 0.23925936, 0.7695696 , 0.42046439, 0.81585899,0.54890951, 0.7006783 , 0.23177555, 0.02604559, 0.47375653],\n",
    "       [0.35760887, 0.82051204, 0.568982  , 0.08858827, 0.84830185,0.15142244, 0.05623801, 0.52032449, 0.19970964, 0.52910059],\n",
    "       [0.05463184, 0.1481239 , 0.44760348, 0.58651152, 0.77316006,0.64567662, 0.35027898, 0.19289026, 0.80032864, 0.37215158]\n",
    "       ]\n",
    "       )\n",
    "\n",
    "perfect_preds = torch.tensor([\n",
    "    [0, 0, 0, 0, 0, 0, 0, 0, 1, 0],\n",
    "    [0, 0, 1/2, 0, 0, 0, 0, 1/2, 0, 0],\n",
    "    [1/3, 0, 0, 1/3, 0, 0, 0, 1/3, 0, 0],\n",
    "    [0, 0, 0, 0, 0, 0, 0, 1, 0, 0]\n",
    "    ])\n",
    "\n",
    "# Define the number of classes  \n",
    "num_classes = preds.shape[1]  \n",
    "\n",
    "# Create a tensor of labels  \n",
    "labels = [[8], [7, 2], [3, 8, 0], [7]]\n",
    "# print(f'labels : {labels}')\n",
    "tensor_labels = list()\n",
    "for ls in labels:\n",
    "    t = torch.zeros(num_classes, dtype=torch.long)\n",
    "    t[ls] = 1\n",
    "    tensor_labels.append(t)\n",
    "tensor_labels = torch.stack(tensor_labels)\n",
    "print(f'labels one hot : {tensor_labels}')"
   ]
  },
  {
   "cell_type": "code",
   "execution_count": null,
   "metadata": {},
   "outputs": [
    {
     "name": "stdout",
     "output_type": "stream",
     "text": [
      "tensor([[0.0664, 0.1916, 0.0784,  ..., 0.0979, 0.0763, 0.1074],\n",
      "        [0.0896, 0.2030, 0.0567,  ..., 0.1250, 0.0866, 0.0880],\n",
      "        [0.0774, 0.1535, 0.0298,  ..., 0.1495, 0.0585, 0.0827],\n",
      "        ...,\n",
      "        [0.0971, 0.1700, 0.0733,  ..., 0.1192, 0.0907, 0.0815],\n",
      "        [0.1067, 0.0808, 0.0226,  ..., 0.1399, 0.1140, 0.0926],\n",
      "        [0.0745, 0.0973, 0.0411,  ..., 0.1572, 0.0742, 0.1452]])\n",
      "tensor([[1, 1, 0,  ..., 0, 0, 1],\n",
      "        [0, 1, 0,  ..., 0, 1, 0],\n",
      "        [1, 0, 0,  ..., 0, 0, 0],\n",
      "        ...,\n",
      "        [0, 0, 0,  ..., 0, 0, 1],\n",
      "        [0, 1, 0,  ..., 0, 0, 1],\n",
      "        [0, 0, 1,  ..., 0, 0, 0]])\n"
     ]
    }
   ],
   "source": [
    "preds = F.softmax(logits.clone().detach(), dim=1)\n",
    "print(preds)\n",
    "tensor_labels = labels.clone().detach()\n",
    "print(labels)"
   ]
  },
  {
   "cell_type": "code",
   "execution_count": null,
   "metadata": {},
   "outputs": [
    {
     "name": "stdout",
     "output_type": "stream",
     "text": [
      "tensor([[0.3971, 0.2327, 0.0000,  ..., 0.0000, 0.0000, 0.3686],\n",
      "        [0.0000, 0.2389, 0.0000,  ..., 0.0000, 0.4096, 0.0000],\n",
      "        [1.0018, 0.0000, 0.0000,  ..., 0.0000, 0.0000, 0.0000],\n",
      "        ...,\n",
      "        [0.0000, 0.0000, 0.0000,  ..., 0.0000, 0.0000, 1.0010],\n",
      "        [0.0000, 0.2540, 0.0000,  ..., 0.0000, 0.0000, 0.3656],\n",
      "        [0.0000, 0.0000, 0.3023,  ..., 0.0000, 0.0000, 0.0000]])\n",
      "Sum on col for constrained classes (log_sum_exp_Z.sum(dim=1)) :\n",
      " tensor([0.9985, 0.9973, 1.0018,  ..., 1.0010, 0.9984, 1.0033])\n",
      "Sum on rows (log_sum_exp_Z.sum(dim=0)) :\n",
      " tensor([5000.0083, 4999.9990, 4999.9917, 5000.0029, 4999.9941, 5000.0117,\n",
      "        4999.9980, 5000.0000, 4999.9995, 4999.9966])\n"
     ]
    }
   ],
   "source": [
    "b=torch.tensor([0.1 for i in range(10)])\n",
    "def solve_via_bregman(W, mask, ratio, max_iter=10, eps=1):\n",
    "    \"\"\"\n",
    "    1. Select elements of matrix to modify\n",
    "    2. Apply first projection on these elements (condition 1, \\sum mu_i =1)\n",
    "    3. Apply second projection on these elements (condition 2, \\sum mu_i on  =1)\n",
    "    \"\"\"\n",
    "    not_mask = mask!=1\n",
    "    W = - W.clone() / eps\n",
    "    W[not_mask]=float(\"-inf\")\n",
    "    for _ in range(max_iter):\n",
    "        # Project on first constraint set (sum of columns = 1)\n",
    "        W = torch.log_softmax(W, dim=1)\n",
    "        # Project on second constraint set (sum of lines = b on constrained elements)\n",
    "        W = torch.log_softmax(W, dim=0) + np.log(ratio)\n",
    "    return W.exp()\n",
    "\n",
    "log_sum_exp_Z = solve_via_bregman(preds, tensor_labels, b*len(train_data))\n",
    "\n",
    "print((log_sum_exp_Z))\n",
    "print(\"Sum on col for constrained classes (log_sum_exp_Z.sum(dim=1)) :\\n\", log_sum_exp_Z.sum(dim=1))\n",
    "print(\"Sum on rows (log_sum_exp_Z.sum(dim=0)) :\\n\", log_sum_exp_Z.sum(dim=0))"
   ]
  },
  {
   "cell_type": "code",
   "execution_count": null,
   "metadata": {},
   "outputs": [],
   "source": [
    "w = torch.tensor([3., 2., -1., float('-inf')])\n",
    "w.log_softmax(dim=0).exp()\n",
    "\n",
    "def compute_logsumexp_z(W, mask, ratio):\n",
    "    ratio = ratio * W.shape[0]\n",
    "    with torch.no_grad():\n",
    "        P = solve_via_bregman(W, mask, ratio)\n",
    "    return (P*W).sum(dim=1) - torch.nan_to_num(P*P.log()).sum(dim=1)"
   ]
  },
  {
   "cell_type": "code",
   "execution_count": null,
   "metadata": {},
   "outputs": [
    {
     "name": "stdout",
     "output_type": "stream",
     "text": [
      "nll_loss_eer : nan\n"
     ]
    }
   ],
   "source": [
    "def nll_loss_eer(preds, labels, ratio):\n",
    "    # Perform Bregman Projections to inlcude Expected Entity Ratio on Z\n",
    "    log_sum_exp_Z = compute_logsumexp_z(preds, labels, ratio)\n",
    "    \n",
    "    # Calculate logsumexp on Y\n",
    "    log_sum_exp_Y = torch.logsumexp(preds, dim=1)\n",
    "    \n",
    "    loss = - log_sum_exp_Z.mean() + log_sum_exp_Y.mean()\n",
    "    return loss\n",
    "\n",
    "ratio=0.5\n",
    "\n",
    "print(f'nll_loss_eer : {nll_loss_eer(preds, tensor_labels, ratio)}')"
   ]
  },
  {
   "cell_type": "code",
   "execution_count": null,
   "metadata": {},
   "outputs": [
    {
     "name": "stdout",
     "output_type": "stream",
     "text": [
      "1 / 10\n",
      "Dev acc: 17.98\n",
      "2 / 10\n",
      "Dev acc: 30.18\n",
      "3 / 10\n",
      "Dev acc: 38.85\n",
      "4 / 10\n",
      "Dev acc: 45.33\n",
      "5 / 10\n",
      "Dev acc: 53.28\n",
      "6 / 10\n",
      "Dev acc: 62.54\n",
      "7 / 10\n",
      "Dev acc: 67.84\n",
      "8 / 10\n",
      "Dev acc: 69.73\n",
      "9 / 10\n",
      "Dev acc: 71.35\n",
      "10 / 10\n",
      "Dev acc: 71.88\n"
     ]
    },
    {
     "data": {
      "image/png": "[encoded data removed]",
      "text/plain": [
       "<Figure size 640x480 with 1 Axes>"
      ]
     },
     "metadata": {},
     "output_type": "display_data"
    },
    {
     "data": {
      "image/png": "[encoded data removed]",
      "text/plain": [
       "<Figure size 640x480 with 1 Axes>"
      ]
     },
     "metadata": {},
     "output_type": "display_data"
    }
   ],
   "source": [
    "import matplotlib.pyplot as plt  \n",
    "  \n",
    "def count_correct_preds(predictions_one_hot, labels):  \n",
    "    num_correct = 0    \n",
    "    for i in range(predictions_one_hot.size(0)):    \n",
    "        pred = torch.argmax(predictions_one_hot[i])    \n",
    "        label = torch.nonzero(labels[i]).flatten()    \n",
    "        if pred in label:    \n",
    "            num_correct += 1    \n",
    "    return num_correct    \n",
    "  \n",
    "# hyper-parameters  \n",
    "batch_size = int(len(train_data))\n",
    "n_epochs = 10\n",
    "ratio = torch.tensor([0.1 for _ in range(10)])\n",
    "\n",
    "# Build the network  \n",
    "network = MLPClassifier(784, 200, 10)  \n",
    "if torch.cuda.is_available(): network.to(device)\n",
    "\n",
    "optimizer = torch.optim.SGD(network.parameters(), lr=1, momentum=0.9)  \n",
    "  \n",
    "train_losses = []  \n",
    "dev_accs = []  \n",
    "  \n",
    "for epoch in range(n_epochs):  \n",
    "    print(\"%i / %i\" % (epoch+1, n_epochs))  \n",
    "      \n",
    "    random.shuffle(train_data)  \n",
    "      \n",
    "    network.train()  \n",
    "    train_loss = 0\n",
    "      \n",
    "    for first_element in range(0, len(train_data), batch_size):  \n",
    "        optimizer.zero_grad()  \n",
    "          \n",
    "        batch_input, labels = build_batch_noised(train_data[first_element:first_element + batch_size], 10)\n",
    "        if torch.cuda.is_available(): batch_input = batch_input.to(device)\n",
    "        if torch.cuda.is_available(): labels = labels.to(device)\n",
    "        logits = network(batch_input)\n",
    "        \n",
    "        # Modified loss to take into account partial labeling\n",
    "        loss = nll_loss_eer(F.softmax(logits, dim=1), labels, ratio)  \n",
    "\n",
    "        loss.backward(retain_graph=True)  \n",
    "\n",
    "        optimizer.step()  \n",
    "        \n",
    "        train_loss += loss.item()  \n",
    "          \n",
    "    train_losses.append(train_loss /len(train_data))  \n",
    "\n",
    "    n_correct = 0  \n",
    "    with torch.no_grad():   \n",
    "        network.eval()\n",
    "\n",
    "        for first_element in range(0, len(dev_data), batch_size):  \n",
    "            batch_input, labels = build_batch_noised(dev_data[first_element:first_element + batch_size], 10)  \n",
    "            if torch.cuda.is_available(): batch_input = batch_input.to(device)\n",
    "            if torch.cuda.is_available(): labels = labels.to(device)\n",
    "            logits = network(batch_input)  \n",
    "              \n",
    "            prediction = logits.argmax(dim=1)  \n",
    "              \n",
    "            n_correct += count_correct_preds(F.one_hot(prediction, num_classes=10), labels)  \n",
    "  \n",
    "    dev_acc = 100 * n_correct / len(dev_data)  \n",
    "    dev_accs.append(dev_acc)  \n",
    "    print(\"Dev acc: %.2f\" % dev_acc)\n",
    "      \n",
    "# Plot the training loss and dev accuracy  \n",
    "plt.plot(train_losses)  \n",
    "plt.title('Training Loss')  \n",
    "plt.xlabel('Epoch')  \n",
    "plt.ylabel('Loss')  \n",
    "plt.show()  \n",
    "  \n",
    "plt.plot(dev_accs)  \n",
    "plt.title('Dev Accuracy')  \n",
    "plt.xlabel('Epoch')  \n",
    "plt.ylabel('Accuracy')  \n",
    "plt.show() "
   ]
  },
  {
   "cell_type": "code",
   "execution_count": 9,
   "metadata": {},
   "outputs": [],
   "source": [
    "X = [data['input_tensor'] for data in train_data]\n",
    "Y = []\n",
    "for data in train_data:\n",
    "    if type(data['output_value'])==list:\n",
    "        Y.append(data['output_value'])\n",
    "    else:\n",
    "        Y.append([data['output_value']])\n",
    "\n",
    "label_list=np.unique([item for l in Y  for item in l])\n",
    "\n",
    "# Create a data loader that gives batches that make the Bregman Problem feasible.\n",
    "# For this, we need in each batch to have ratio*len(batch) of each data class\n",
    "# (ratio is a tensor of size (num_classes) so we have a number of data points to have\n",
    "# for each class in the batch)\n",
    "# The problem is that we have partial labels (sometimes y=[1] sometimes y=[1,7]) so we\n",
    "# cannot use a classic WeightedRandomSampler\n",
    "# We will create a custom sampler that will sample the data points in the batch\n",
    "# such that we have the right number of data points for each class in the batch.\n",
    "\n",
    "# class CustomSampler(torch.utils.data.Sampler):\n",
    "#     def __init__(self, data_source, ratio):\n",
    "#         self.data_source = data_source\n",
    "#         self.ratio = ratio\n",
    "#         self.label_list = np.unique([item for l in Y  for item in l])\n",
    "#         self.label_indices = {label:[] for label in self.label_list}\n",
    "#         for i, y in enumerate(Y):\n",
    "#             for label in y:\n",
    "#                 self.label_indices[label].append(i)\n",
    "#         self.length = len(data_source)\n",
    "#         self.num_classes = len(self.label_list)\n",
    "        \n",
    "#     def __iter__(self):\n",
    "#         indices = []\n",
    "#         for label in self.label_list:\n",
    "#             indices += random.sample(self.label_indices[label], int(self.ratio[label.item()]*self.length))\n",
    "#         random.shuffle(indices)\n",
    "#         return iter(indices)\n",
    "    \n",
    "#     def __len__(self):\n",
    "#         return self.length\n",
    "\n",
    "# sampler = CustomSampler(Y, ratio = torch.tensor([0.1 for _ in label_list]))\n",
    "# sampler_iter = iter(sampler)\n",
    "\n",
    "# # Test with a dataloader\n",
    "\n",
    "# dataloader = torch.utils.data.DataLoader(Y, batch_size=10000, sampler=sampler, collate_fn=lambda x: x)\n",
    "# for batch in dataloader:\n",
    "#     print(len(batch))\n",
    "#     break\n",
    "\n",
    "# # Check that the distribution of classes is respected in the generated batch\n",
    "# batch_label_indices={label:[] for label in sampler.label_list}\n",
    "\n",
    "# for i, y in enumerate(batch):\n",
    "#     for label in y:\n",
    "#         batch_label_indices[label].append(i)\n",
    "\n",
    "# print({label:len(indices) for label, indices in batch_label_indices.items()})\n",
    "\n",
    "# Problem with this implementation : as we add data samples with random.sample(self.label_indices[label], int(self.ratio[label.item()]*self.length)),\n",
    "# we do not respect the ratio of each class in the batch. Indeed, when adding a\n",
    "\n"
   ]
  },
  {
   "cell_type": "code",
   "execution_count": 45,
   "metadata": {},
   "outputs": [
    {
     "name": "stderr",
     "output_type": "stream",
     "text": [
      "Creating batches:   0%|          | 0/10 [00:00<?, ?it/s]C:\\Users\\u011513\\AppData\\Local\\Temp\\ipykernel_11424\\775593035.py:22: RuntimeWarning: invalid value encountered in divide\n",
      "  prob = loop_ratio/np.sum(loop_ratio)\n",
      "Creating batches:   0%|          | 0/10 [00:16<?, ?it/s]\n"
     ]
    },
    {
     "ename": "KeyboardInterrupt",
     "evalue": "",
     "output_type": "error",
     "traceback": [
      "\u001b[1;31m---------------------------------------------------------------------------\u001b[0m",
      "\u001b[1;31mKeyboardInterrupt\u001b[0m                         Traceback (most recent call last)",
      "Cell \u001b[1;32mIn[45], line 24\u001b[0m\n\u001b[0;32m     22\u001b[0m prob \u001b[38;5;241m=\u001b[39m loop_ratio\u001b[38;5;241m/\u001b[39mnp\u001b[38;5;241m.\u001b[39msum(loop_ratio)\n\u001b[0;32m     23\u001b[0m prob \u001b[38;5;241m=\u001b[39m prob\u001b[38;5;241m.\u001b[39mtolist()\n\u001b[1;32m---> 24\u001b[0m prob[\u001b[38;5;241m-\u001b[39m\u001b[38;5;241m1\u001b[39m] \u001b[38;5;241m=\u001b[39m \u001b[38;5;241m1\u001b[39m \u001b[38;5;241m-\u001b[39m \u001b[43mnp\u001b[49m\u001b[38;5;241;43m.\u001b[39;49m\u001b[43msum\u001b[49m\u001b[43m(\u001b[49m\u001b[43mprob\u001b[49m\u001b[43m[\u001b[49m\u001b[38;5;241;43m0\u001b[39;49m\u001b[43m:\u001b[49m\u001b[38;5;241;43m-\u001b[39;49m\u001b[38;5;241;43m1\u001b[39;49m\u001b[43m]\u001b[49m\u001b[43m)\u001b[49m\n\u001b[0;32m     26\u001b[0m flag\u001b[38;5;241m=\u001b[39m\u001b[38;5;28;01mFalse\u001b[39;00m\n\u001b[0;32m     27\u001b[0m \u001b[38;5;66;03m# Pick a random element (with higher proba for missing elements)\u001b[39;00m\n",
      "File \u001b[1;32mc:\\Users\\u011513\\Documents\\repos\\notebooks\\venv\\Lib\\site-packages\\numpy\\core\\fromnumeric.py:2313\u001b[0m, in \u001b[0;36msum\u001b[1;34m(a, axis, dtype, out, keepdims, initial, where)\u001b[0m\n\u001b[0;32m   2310\u001b[0m         \u001b[38;5;28;01mreturn\u001b[39;00m out\n\u001b[0;32m   2311\u001b[0m     \u001b[38;5;28;01mreturn\u001b[39;00m res\n\u001b[1;32m-> 2313\u001b[0m \u001b[38;5;28;01mreturn\u001b[39;00m \u001b[43m_wrapreduction\u001b[49m\u001b[43m(\u001b[49m\u001b[43ma\u001b[49m\u001b[43m,\u001b[49m\u001b[43m \u001b[49m\u001b[43mnp\u001b[49m\u001b[38;5;241;43m.\u001b[39;49m\u001b[43madd\u001b[49m\u001b[43m,\u001b[49m\u001b[43m \u001b[49m\u001b[38;5;124;43m'\u001b[39;49m\u001b[38;5;124;43msum\u001b[39;49m\u001b[38;5;124;43m'\u001b[39;49m\u001b[43m,\u001b[49m\u001b[43m \u001b[49m\u001b[43maxis\u001b[49m\u001b[43m,\u001b[49m\u001b[43m \u001b[49m\u001b[43mdtype\u001b[49m\u001b[43m,\u001b[49m\u001b[43m \u001b[49m\u001b[43mout\u001b[49m\u001b[43m,\u001b[49m\u001b[43m \u001b[49m\u001b[43mkeepdims\u001b[49m\u001b[38;5;241;43m=\u001b[39;49m\u001b[43mkeepdims\u001b[49m\u001b[43m,\u001b[49m\n\u001b[0;32m   2314\u001b[0m \u001b[43m                      \u001b[49m\u001b[43minitial\u001b[49m\u001b[38;5;241;43m=\u001b[39;49m\u001b[43minitial\u001b[49m\u001b[43m,\u001b[49m\u001b[43m \u001b[49m\u001b[43mwhere\u001b[49m\u001b[38;5;241;43m=\u001b[39;49m\u001b[43mwhere\u001b[49m\u001b[43m)\u001b[49m\n",
      "File \u001b[1;32mc:\\Users\\u011513\\Documents\\repos\\notebooks\\venv\\Lib\\site-packages\\numpy\\core\\fromnumeric.py:72\u001b[0m, in \u001b[0;36m_wrapreduction\u001b[1;34m(obj, ufunc, method, axis, dtype, out, **kwargs)\u001b[0m\n\u001b[0;32m     71\u001b[0m \u001b[38;5;28;01mdef\u001b[39;00m \u001b[38;5;21m_wrapreduction\u001b[39m(obj, ufunc, method, axis, dtype, out, \u001b[38;5;241m*\u001b[39m\u001b[38;5;241m*\u001b[39mkwargs):\n\u001b[1;32m---> 72\u001b[0m     passkwargs \u001b[38;5;241m=\u001b[39m \u001b[43m{\u001b[49m\u001b[43mk\u001b[49m\u001b[43m:\u001b[49m\u001b[43m \u001b[49m\u001b[43mv\u001b[49m\u001b[43m \u001b[49m\u001b[38;5;28;43;01mfor\u001b[39;49;00m\u001b[43m \u001b[49m\u001b[43mk\u001b[49m\u001b[43m,\u001b[49m\u001b[43m \u001b[49m\u001b[43mv\u001b[49m\u001b[43m \u001b[49m\u001b[38;5;129;43;01min\u001b[39;49;00m\u001b[43m \u001b[49m\u001b[43mkwargs\u001b[49m\u001b[38;5;241;43m.\u001b[39;49m\u001b[43mitems\u001b[49m\u001b[43m(\u001b[49m\u001b[43m)\u001b[49m\n\u001b[0;32m     73\u001b[0m \u001b[43m                  \u001b[49m\u001b[38;5;28;43;01mif\u001b[39;49;00m\u001b[43m \u001b[49m\u001b[43mv\u001b[49m\u001b[43m \u001b[49m\u001b[38;5;129;43;01mis\u001b[39;49;00m\u001b[43m \u001b[49m\u001b[38;5;129;43;01mnot\u001b[39;49;00m\u001b[43m \u001b[49m\u001b[43mnp\u001b[49m\u001b[38;5;241;43m.\u001b[39;49m\u001b[43m_NoValue\u001b[49m\u001b[43m}\u001b[49m\n\u001b[0;32m     75\u001b[0m     \u001b[38;5;28;01mif\u001b[39;00m \u001b[38;5;28mtype\u001b[39m(obj) \u001b[38;5;129;01mis\u001b[39;00m \u001b[38;5;129;01mnot\u001b[39;00m mu\u001b[38;5;241m.\u001b[39mndarray:\n\u001b[0;32m     76\u001b[0m         \u001b[38;5;28;01mtry\u001b[39;00m:\n",
      "File \u001b[1;32mc:\\Users\\u011513\\Documents\\repos\\notebooks\\venv\\Lib\\site-packages\\numpy\\core\\fromnumeric.py:72\u001b[0m, in \u001b[0;36m<dictcomp>\u001b[1;34m(.0)\u001b[0m\n\u001b[0;32m     71\u001b[0m \u001b[38;5;28;01mdef\u001b[39;00m \u001b[38;5;21m_wrapreduction\u001b[39m(obj, ufunc, method, axis, dtype, out, \u001b[38;5;241m*\u001b[39m\u001b[38;5;241m*\u001b[39mkwargs):\n\u001b[1;32m---> 72\u001b[0m     passkwargs \u001b[38;5;241m=\u001b[39m {k: v \u001b[38;5;28;01mfor\u001b[39;00m k, v \u001b[38;5;129;01min\u001b[39;00m kwargs\u001b[38;5;241m.\u001b[39mitems()\n\u001b[0;32m     73\u001b[0m                   \u001b[38;5;28;01mif\u001b[39;00m v \u001b[38;5;129;01mis\u001b[39;00m \u001b[38;5;129;01mnot\u001b[39;00m np\u001b[38;5;241m.\u001b[39m_NoValue}\n\u001b[0;32m     75\u001b[0m     \u001b[38;5;28;01mif\u001b[39;00m \u001b[38;5;28mtype\u001b[39m(obj) \u001b[38;5;129;01mis\u001b[39;00m \u001b[38;5;129;01mnot\u001b[39;00m mu\u001b[38;5;241m.\u001b[39mndarray:\n\u001b[0;32m     76\u001b[0m         \u001b[38;5;28;01mtry\u001b[39;00m:\n",
      "\u001b[1;31mKeyboardInterrupt\u001b[0m: "
     ]
    }
   ],
   "source": [
    "list_batch = []\n",
    "for i in tqdm(range(10), desc='Creating batches'):\n",
    "    batch_size = 10000\n",
    "    ratio = [0.10 * batch_size for _ in range(10)]\n",
    "\n",
    "\n",
    "    indices_by_class = {label:[] for label in label_list}\n",
    "    for i, y in enumerate(Y):\n",
    "        for label in y:\n",
    "            indices_by_class[label].append(i)\n",
    "\n",
    "    batch = []\n",
    "    batch_elem_by_class = [0 for i in range(10)]\n",
    "    indices=list(range(len(train_data)))\n",
    "\n",
    "    loop_ratio = ratio.copy()\n",
    "\n",
    "    ratio_is_satisfied = False\n",
    "    while not len(batch)==batch_size:\n",
    "        # print('loop_ratio : ', loop_ratio)\n",
    "        # Define probability of picking elements\n",
    "        prob = loop_ratio/np.sum(loop_ratio)\n",
    "        prob = prob.tolist()\n",
    "        prob[-1] = 1 - np.sum(prob[0:-1])\n",
    "\n",
    "        flag=False\n",
    "        # Pick a random element (with higher proba for missing elements)\n",
    "        selected_y_idx = random.choice(indices)\n",
    "        selected_y = Y[selected_y_idx]\n",
    "        # print('len(batch) : ', len(batch), end='\\r')\n",
    "        # print('selected_y_idx : ', selected_y_idx, end = '\\r')\n",
    "        # Check that there is no label that does not meet the constraints:\n",
    "        for label in selected_y:\n",
    "            if batch_elem_by_class[label]==ratio[label]:\n",
    "                flag = True\n",
    "                continue\n",
    "        if flag:\n",
    "            continue\n",
    "        # Add element to batch \n",
    "        # & update batch_elem_by_class\n",
    "        # & Remove 1 from ratio vector to increase prob of picking an element\n",
    "        # that has not been picked yet   batch.append(selected_y_idx)\n",
    "        batch.append(selected_y_idx)\n",
    "        for label in selected_y:\n",
    "            batch_elem_by_class[label]+=1\n",
    "            loop_ratio[label] -= 1\n",
    "\n",
    "        # Remove added element from remaining y\n",
    "        indices.remove(selected_y_idx)\n",
    "\n",
    "        # Check if we respect the ratio requirements on the batch now:\n",
    "        if all([elem==ratio[i] for i, elem in enumerate(batch_elem_by_class)]):\n",
    "            ratio_is_satisfied = True\n",
    "    list_batch.append(batch)"
   ]
  },
  {
   "cell_type": "code",
   "execution_count": 44,
   "metadata": {},
   "outputs": [
    {
     "name": "stdout",
     "output_type": "stream",
     "text": [
      "6408\n",
      "6326\n",
      "6336\n",
      "6422\n",
      "6340\n",
      "6362\n",
      "6392\n",
      "6394\n",
      "6396\n",
      "6468\n",
      "{0: 1000, 1: 1000, 2: 1000, 3: 1000, 4: 1000, 5: 1000, 6: 1000, 7: 1000, 8: 1000, 9: 1000}\n"
     ]
    }
   ],
   "source": [
    "for batch in list_batch:\n",
    "    print(len(batch))\n",
    "\n",
    "# Check that the distribution of classes is respected in the generated batch\n",
    "batch_label_indices={label:[] for label in label_list}\n",
    "\n",
    "for i, y in enumerate(batch):\n",
    "    for label in Y[y]:\n",
    "        batch_label_indices[label].append(i)\n",
    "\n",
    "print({label:len(indices) for label, indices in batch_label_indices.items()})"
   ]
  },
  {
   "cell_type": "code",
   "execution_count": 34,
   "metadata": {},
   "outputs": [
    {
     "data": {
      "text/plain": [
       "1000.0"
      ]
     },
     "execution_count": 34,
     "metadata": {},
     "output_type": "execute_result"
    }
   ],
   "source": [
    "ratio[label]"
   ]
  },
  {
   "cell_type": "code",
   "execution_count": 165,
   "metadata": {},
   "outputs": [],
   "source": [
    "import torch\n",
    "from torch.utils.data import DataLoader, Dataset\n",
    "import numpy as np\n",
    "\n",
    "class CustomSampler:\n",
    "    def __init__(self, labels, ratio, batch_size):\n",
    "        self.ratio = ratio\n",
    "        self.label_list = np.unique([item for l in labels  for item in l])\n",
    "        self.indices_by_class = {label:[] for label in self.label_list}\n",
    "        for i, y in enumerate(labels):\n",
    "            for label in y:\n",
    "                self.indices_by_class[label].append(i)\n",
    "        self.batch_size = batch_size\n",
    "\n",
    "    def make_batch(self):\n",
    "        batch = []\n",
    "        loop_ratio = self.ratio.clone()\n",
    "        norm_ratio = loop_ratio/loop_ratio.sum()\n",
    "        # Modify the while test. It should not be on len(batch) but on the ratio of each class in the batch\n",
    "        while len(batch) < self.batch_size:\n",
    "            # Select a class\n",
    "            class_ = np.random.choice(range(10), p=norm_ratio)\n",
    "            # If there are still samples available for the selected class\n",
    "            if len(self.indices_by_class[class_]) > 0:\n",
    "                # Pop an index from the list of indices for this class and add it to the batch\n",
    "                batch.append(self.indices_by_class[class_].pop())\n",
    "                # Update the ratio tensor by subtracting 1 from the count of the selected class\n",
    "                loop_ratio[class_] -= 1\n",
    "        return batch\n",
    "    \n",
    "    def __iter__(self):\n",
    "        batch = []\n",
    "        loop_ratio = self.ratio.clone()\n",
    "        norm_ratio = loop_ratio/loop_ratio.sum()\n",
    "        # Modify the while test. It should not be on len(batch) but on the ratio of each class in the batch\n",
    "        while len(batch) < self.batch_size:\n",
    "            # Select a class\n",
    "            class_ = np.random.choice(range(10), p=norm_ratio)\n",
    "            # If there are still samples available for the selected class\n",
    "            if len(self.indices_by_class[class_]) > 0:\n",
    "                # Pop an index from the list of indices for this class and add it to the batch\n",
    "                batch.append(self.indices_by_class[class_].pop())\n",
    "                # Update the ratio tensor by subtracting 1 from the count of the selected class\n",
    "                loop_ratio[class_] -= 1\n",
    "        yield batch\n",
    "        batch = []\n",
    "\n",
    "    def __len__(self):\n",
    "        return len(self.data)\n",
    "\n",
    "# Usage\n",
    "labels = Y.copy()  # Replace with your actual labels\n",
    "batch_size = 10000  # Replace with your actual batch size\n",
    "ratio = torch.tensor([0.1*batch_size for _ in range(10)])  # Replace with your actual ratio\n",
    "sampler = CustomSampler(labels, ratio, batch_size)\n",
    "# sampler.make_batch()\n",
    "\n",
    "class CustomDataLoader():\n",
    "    def __init__(self, data, batch_size, sampler):\n",
    "        self.data = data\n",
    "        self.batch_size = batch_size\n",
    "        self.sampler = sampler\n",
    "\n",
    "    def __iter__(self):\n",
    "        for _ in range(len(self.data)//self.batch_size):\n",
    "            yield self.sampler.make_batch()\n",
    "\n",
    "    def __getitem__(self, index):\n",
    "        if isinstance(index, list):\n",
    "            return [self.data[i] for i in index]\n",
    "        else:\n",
    "            return self.data[index]\n",
    "\n",
    "    def __len__(self):\n",
    "        return len(self.data)\n",
    "    \n",
    "# dataloader = CustomDataLoader(labels, batch_size=batch_size, sampler=sampler)\n",
    "\n",
    "# for batch in dataloader:\n",
    "#     print(len(batch))\n"
   ]
  },
  {
   "cell_type": "code",
   "execution_count": 176,
   "metadata": {},
   "outputs": [
    {
     "data": {
      "text/plain": [
       "30156"
      ]
     },
     "execution_count": 176,
     "metadata": {},
     "output_type": "execute_result"
    }
   ],
   "source": [
    "l = [item for l in list(sampler.indices_by_class.values()) for item in l]\n",
    "len(l)"
   ]
  },
  {
   "cell_type": "code",
   "execution_count": 132,
   "metadata": {},
   "outputs": [
    {
     "data": {
      "text/plain": [
       "(10000,\n",
       " tensor([1000., 1000., 1000., 1000., 1000., 1000., 1000., 1000., 1000., 1000.]),\n",
       " {0: 8025,\n",
       "  1: 8601,\n",
       "  2: 7914,\n",
       "  3: 8066,\n",
       "  4: 7915,\n",
       "  5: 7621,\n",
       "  6: 7896,\n",
       "  7: 8156,\n",
       "  8: 7887,\n",
       "  9: 8075})"
      ]
     },
     "execution_count": 132,
     "metadata": {},
     "output_type": "execute_result"
    }
   ],
   "source": [
    "sampler.batch_size, sampler.ratio, {label:len(indices) for label, indices in sampler.indices_by_class.items()}"
   ]
  },
  {
   "cell_type": "code",
   "execution_count": 152,
   "metadata": {},
   "outputs": [
    {
     "ename": "KeyboardInterrupt",
     "evalue": "",
     "output_type": "error",
     "traceback": [
      "\u001b[1;31m---------------------------------------------------------------------------\u001b[0m",
      "\u001b[1;31mKeyboardInterrupt\u001b[0m                         Traceback (most recent call last)",
      "Cell \u001b[1;32mIn[152], line 1\u001b[0m\n\u001b[1;32m----> 1\u001b[0m batch \u001b[38;5;241m=\u001b[39m \u001b[43msampler\u001b[49m\u001b[38;5;241;43m.\u001b[39;49m\u001b[43mmake_batch\u001b[49m\u001b[43m(\u001b[49m\u001b[43m)\u001b[49m\n\u001b[0;32m      2\u001b[0m batch\n",
      "Cell \u001b[1;32mIn[129], line 22\u001b[0m, in \u001b[0;36mCustomSampler.make_batch\u001b[1;34m(self)\u001b[0m\n\u001b[0;32m     19\u001b[0m \u001b[38;5;66;03m# Modify the while test. It should not be on len(batch) but on the ratio of each class in the batch\u001b[39;00m\n\u001b[0;32m     20\u001b[0m \u001b[38;5;28;01mwhile\u001b[39;00m \u001b[38;5;28mlen\u001b[39m(batch) \u001b[38;5;241m<\u001b[39m \u001b[38;5;28mself\u001b[39m\u001b[38;5;241m.\u001b[39mbatch_size:\n\u001b[0;32m     21\u001b[0m     \u001b[38;5;66;03m# Select a class\u001b[39;00m\n\u001b[1;32m---> 22\u001b[0m     class_ \u001b[38;5;241m=\u001b[39m np\u001b[38;5;241m.\u001b[39mrandom\u001b[38;5;241m.\u001b[39mchoice(\u001b[38;5;28mrange\u001b[39m(\u001b[38;5;241m10\u001b[39m), p\u001b[38;5;241m=\u001b[39mnorm_ratio)\n\u001b[0;32m     23\u001b[0m     \u001b[38;5;66;03m# If there are still samples available for the selected class\u001b[39;00m\n\u001b[0;32m     24\u001b[0m     \u001b[38;5;28;01mif\u001b[39;00m \u001b[38;5;28mlen\u001b[39m(\u001b[38;5;28mself\u001b[39m\u001b[38;5;241m.\u001b[39mindices_by_class[class_]) \u001b[38;5;241m>\u001b[39m \u001b[38;5;241m0\u001b[39m:\n\u001b[0;32m     25\u001b[0m         \u001b[38;5;66;03m# Pop an index from the list of indices for this class and add it to the batch\u001b[39;00m\n",
      "File \u001b[1;32mnumpy\\\\random\\\\mtrand.pyx:961\u001b[0m, in \u001b[0;36mnumpy.random.mtrand.RandomState.choice\u001b[1;34m()\u001b[0m\n",
      "File \u001b[1;32mc:\\Users\\u011513\\Documents\\repos\\notebooks\\venv\\Lib\\site-packages\\torch\\_tensor.py:1064\u001b[0m, in \u001b[0;36mTensor.__array__\u001b[1;34m(self, dtype)\u001b[0m\n\u001b[0;32m   1062\u001b[0m     \u001b[38;5;28;01mreturn\u001b[39;00m \u001b[38;5;28mself\u001b[39m\u001b[38;5;241m.\u001b[39mnumpy()\n\u001b[0;32m   1063\u001b[0m \u001b[38;5;28;01melse\u001b[39;00m:\n\u001b[1;32m-> 1064\u001b[0m     \u001b[38;5;28;01mreturn\u001b[39;00m \u001b[38;5;28;43mself\u001b[39;49m\u001b[38;5;241;43m.\u001b[39;49m\u001b[43mnumpy\u001b[49m\u001b[43m(\u001b[49m\u001b[43m)\u001b[49m\u001b[38;5;241;43m.\u001b[39;49m\u001b[43mastype\u001b[49m\u001b[43m(\u001b[49m\u001b[43mdtype\u001b[49m\u001b[43m,\u001b[49m\u001b[43m \u001b[49m\u001b[43mcopy\u001b[49m\u001b[38;5;241;43m=\u001b[39;49m\u001b[38;5;28;43;01mFalse\u001b[39;49;00m\u001b[43m)\u001b[49m\n",
      "\u001b[1;31mKeyboardInterrupt\u001b[0m: "
     ]
    }
   ],
   "source": [
    "batch = sampler.make_batch()\n",
    "batch"
   ]
  },
  {
   "cell_type": "code",
   "execution_count": 151,
   "metadata": {},
   "outputs": [
    {
     "data": {
      "text/plain": [
       "(10000,\n",
       " tensor([1000., 1000., 1000., 1000., 1000., 1000., 1000., 1000., 1000., 1000.]),\n",
       " {0: 0, 1: 156, 2: 0, 3: 0, 4: 0, 5: 0, 6: 0, 7: 0, 8: 0, 9: 0})"
      ]
     },
     "execution_count": 151,
     "metadata": {},
     "output_type": "execute_result"
    }
   ],
   "source": [
    "sampler.batch_size, sampler.ratio, {label:len(indices) for label, indices in sampler.indices_by_class.items()}"
   ]
  },
  {
   "cell_type": "code",
   "execution_count": null,
   "metadata": {},
   "outputs": [
    {
     "name": "stdout",
     "output_type": "stream",
     "text": [
      "[0.10000000149011612, 0.10000000149011612, 0.09989999979734421, 0.09989999979734421, 0.10000000149011612, 0.09989999979734421, 0.09989999979734421, 0.10000000149011612, 0.10000000149011612, 0.10039999336004257]\n"
     ]
    },
    {
     "data": {
      "text/plain": [
       "9"
      ]
     },
     "execution_count": 990,
     "metadata": {},
     "output_type": "execute_result"
    }
   ],
   "source": [
    "p = torch.tensor([0.1000, 0.1000, 0.0999, 0.0999, 0.1000, 0.0999, 0.0999, 0.1000, 0.1000,0.1000])\n",
    "p = p.tolist()\n",
    "# p = [0.1000, 0.1000, 0.0999, 0.0999, 0.1000, 0.0999, 0.0999, 0.1000, 0.1000,0.1000]\n",
    "p[-1] = 1 - np.sum(p[0:-1])\n",
    "# p[-1] = 1 - np.sum(p[0:-1])\n",
    "print(p)\n",
    "np.random.choice(range(10), p=p)"
   ]
  },
  {
   "cell_type": "code",
   "execution_count": null,
   "metadata": {},
   "outputs": [
    {
     "data": {
      "text/plain": [
       "5"
      ]
     },
     "execution_count": 1000,
     "metadata": {},
     "output_type": "execute_result"
    }
   ],
   "source": [
    "p = [0.13362069427967072, 0.0, 0.0258620698004961, 0.03017241321504116, 0.14224137365818024, 0.2284482717514038, 0.06896551698446274, 0.03017241321504116, 0.0732758641242981, 0.267241382971406]\n",
    "np.random.choice(range(10), p=p)\n"
   ]
  },
  {
   "cell_type": "code",
   "execution_count": null,
   "metadata": {},
   "outputs": [
    {
     "name": "stdout",
     "output_type": "stream",
     "text": [
      "[0.1, 0.1, 0.0999, 0.0999, 0.1, 0.0999, 0.0999, 0.1, 0.1, 0.10039999999999993]\n"
     ]
    },
    {
     "data": {
      "text/plain": [
       "6"
      ]
     },
     "execution_count": 979,
     "metadata": {},
     "output_type": "execute_result"
    }
   ],
   "source": [
    "p = [0.1000, 0.1000, 0.0999, 0.0999, 0.1000, 0.0999, 0.0999, 0.1000, 0.1000,0.1000]\n",
    "p[-1] = 1 - np.sum(p[0:-1])\n",
    "print(p)\n",
    "np.random.choice(range(10), p=p)"
   ]
  },
  {
   "cell_type": "code",
   "execution_count": null,
   "metadata": {},
   "outputs": [
    {
     "data": {
      "text/plain": [
       "tensor([False, False, False, False, False, False, False, False, False, False])"
      ]
     },
     "execution_count": 955,
     "metadata": {},
     "output_type": "execute_result"
    }
   ],
   "source": [
    "torch.clone(ratio)>0"
   ]
  },
  {
   "cell_type": "code",
   "execution_count": 98,
   "metadata": {},
   "outputs": [
    {
     "name": "stdout",
     "output_type": "stream",
     "text": [
      "{0: 2160, 1: 2166, 2: 2080, 3: 2185, 4: 2033, 5: 2103, 6: 1967, 7: 2165, 8: 2116, 9: 2213}\n"
     ]
    }
   ],
   "source": [
    "final_indices_by_class = {label:0 for label in label_list}\n",
    "for i in batch:\n",
    "    for label in Y[i]:\n",
    "        final_indices_by_class[label]+=1\n",
    "\n",
    "print(final_indices_by_class)"
   ]
  },
  {
   "cell_type": "code",
   "execution_count": null,
   "metadata": {},
   "outputs": [
    {
     "data": {
      "text/plain": [
       "tensor(16074)"
      ]
     },
     "execution_count": 939,
     "metadata": {},
     "output_type": "execute_result"
    }
   ],
   "source": [
    "torch.tensor(list(final_indices_by_class.values())).sum()"
   ]
  },
  {
   "cell_type": "code",
   "execution_count": null,
   "metadata": {},
   "outputs": [],
   "source": []
  },
  {
   "cell_type": "code",
   "execution_count": null,
   "metadata": {},
   "outputs": [
    {
     "data": {
      "text/plain": [
       "10000"
      ]
     },
     "execution_count": 889,
     "metadata": {},
     "output_type": "execute_result"
    }
   ],
   "source": [
    "len(batch)"
   ]
  },
  {
   "cell_type": "code",
   "execution_count": null,
   "metadata": {},
   "outputs": [
    {
     "name": "stdout",
     "output_type": "stream",
     "text": [
      "{0: 2115, 1: 2212, 2: 2242, 3: 2143, 4: 2098, 5: 2093, 6: 2153, 7: 2091, 8: 2112, 9: 2029}\n"
     ]
    }
   ],
   "source": [
    "batch_label_indices={label:[] for label in sampler.label_list}\n",
    "\n",
    "for i in batch:\n",
    "    for label in Y[i]:\n",
    "        batch_label_indices[label].append(i)\n",
    "\n",
    "print({label:len(indices) for label, indices in batch_label_indices.items()})"
   ]
  },
  {
   "cell_type": "code",
   "execution_count": null,
   "metadata": {},
   "outputs": [
    {
     "data": {
      "text/plain": [
       "tensor([1999., 2009., 1978., 1943., 2024., 1955., 1987., 2012., 2013., 2080.])"
      ]
     },
     "execution_count": 867,
     "metadata": {},
     "output_type": "execute_result"
    }
   ],
   "source": [
    "ratio"
   ]
  },
  {
   "cell_type": "code",
   "execution_count": null,
   "metadata": {},
   "outputs": [],
   "source": [
    "ratio = ratio\n",
    "label_list = np.unique([item for l in labels  for item in l])\n",
    "indices_by_class = {label:[] for label in label_list}\n",
    "for i, y in enumerate(labels):\n",
    "    for label in y:\n",
    "        indices_by_class[label].append(i)\n",
    "batch_size = batch_size\n",
    "\n",
    "batch = []        \n",
    "# Normalize the ratio\n",
    "norm_ratio = ratio / ratio.sum()\n",
    "# Modify the while test. It should not be on len(batch) but on the ratio of each class in the batch\n",
    "while len(batch) < batch_size:\n",
    "    # Select a class\n",
    "    class_ = np.random.choice(range(10), p=norm_ratio)\n",
    "    # If there are still samples available for the selected class\n",
    "    if len(indices_by_class[class_]) > 0:\n",
    "        # Pop an index from the list of indices for this class and add it to the batch\n",
    "        batch.append(indices_by_class[class_].pop())\n",
    "        # Update the ratio tensor by subtracting 1 from the count of the selected class\n",
    "        ratio[class_] -= 1\n",
    "return iter(batch)"
   ]
  },
  {
   "cell_type": "code",
   "execution_count": null,
   "metadata": {},
   "outputs": [
    {
     "data": {
      "text/plain": [
       "37783"
      ]
     },
     "execution_count": 864,
     "metadata": {},
     "output_type": "execute_result"
    }
   ],
   "source": [
    "sampler_iter = iter(sampler)\n",
    "next(sampler_iter)"
   ]
  }
 ],
 "metadata": {
  "kernelspec": {
   "display_name": "venv",
   "language": "python",
   "name": "python3"
  },
  "language_info": {
   "codemirror_mode": {
    "name": "ipython",
    "version": 3
   },
   "file_extension": ".py",
   "mimetype": "text/x-python",
   "name": "python",
   "nbconvert_exporter": "python",
   "pygments_lexer": "ipython3",
   "version": "3.11.5"
  }
 },
 "nbformat": 4,
 "nbformat_minor": 2
}
