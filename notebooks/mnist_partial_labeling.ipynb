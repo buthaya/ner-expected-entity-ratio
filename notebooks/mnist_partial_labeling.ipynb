{
 "cells": [
  {
   "cell_type": "code",
   "metadata": {
    "ExecuteTime": {
     "end_time": "2024-05-03T07:29:53.292548Z",
     "start_time": "2024-05-03T07:29:53.276784Z"
    }
   },
   "source": [
    "%load_ext autoreload\n",
    "%autoreload 2\n",
    "import os, random\n",
    "import numpy as np\n",
    "import dataset_loader\n",
    "import torch\n",
    "import torch.nn as nn\n",
    "import torch.nn.functional as F\n",
    "from tqdm import tqdm\n",
    "import time\n",
    "\n",
    "device = torch.device('mps') if torch.backends.mps.is_available() else torch.device('cuda') if torch.cuda.is_available() else torch.device('cpu')"
   ],
   "outputs": [
    {
     "name": "stdout",
     "output_type": "stream",
     "text": [
      "The autoreload extension is already loaded. To reload it, use:\n",
      "  %reload_ext autoreload\n"
     ]
    }
   ],
   "execution_count": 39
  },
  {
   "cell_type": "code",
   "metadata": {
    "ExecuteTime": {
     "end_time": "2024-05-03T07:29:53.959436Z",
     "start_time": "2024-05-03T07:29:53.476209Z"
    }
   },
   "source": [
    "# Download mnist dataset \n",
    "if(\"mnist.pkl.gz\" not in os.listdir(\".\")):\n",
    "    !wget https://github.com/mnielsen/neural-networks-and-deep-learning/blob/master/data/mnist.pkl.gz\n",
    "\n",
    "# if you have it somewhere else, you can comment the lines above\n",
    "# and overwrite the path below\n",
    "mnist_path = \"./mnist.pkl.gz\"\n",
    "\n",
    "# load the 3 splits\n",
    "train_data, dev_data, test_data = dataset_loader.load_mnist(mnist_path)\n",
    "\n",
    "def build_torch_inputs(data):\n",
    "    x, y = data\n",
    "    ret = list()\n",
    "    \n",
    "    for i in range(x.shape[0]):\n",
    "        input_tensor = torch.from_numpy(x[i]).reshape(1, -1)\n",
    "        output_value = int(y[i])\n",
    "        \n",
    "        ret.append({\n",
    "            \"input_tensor\": input_tensor,\n",
    "            \"output_value\": output_value\n",
    "        })\n",
    "        \n",
    "    return ret\n",
    "        \n",
    "train_data = build_torch_inputs(train_data)\n",
    "dev_data = build_torch_inputs(dev_data)\n",
    "test_data = build_torch_inputs(test_data)"
   ],
   "outputs": [],
   "execution_count": 40
  },
  {
   "cell_type": "code",
   "metadata": {
    "ExecuteTime": {
     "end_time": "2024-05-03T07:29:53.971709Z",
     "start_time": "2024-05-03T07:29:53.960590Z"
    }
   },
   "source": [
    "# just a helper function\n",
    "def build_batch(data):\n",
    "    batch_inputs = torch.cat(\n",
    "        [data[\"input_tensor\"] for data in data],\n",
    "        dim=0\n",
    "    )\n",
    "\n",
    "    labels = torch.LongTensor([data[\"output_value\"] for data in data ])\n",
    "    \n",
    "    return batch_inputs, labels"
   ],
   "outputs": [],
   "execution_count": 41
  },
  {
   "cell_type": "code",
   "metadata": {
    "ExecuteTime": {
     "end_time": "2024-05-03T07:29:53.983711Z",
     "start_time": "2024-05-03T07:29:53.972420Z"
    }
   },
   "source": [
    "# A network network is a class extending nn.Module\n",
    "class MLPClassifier(nn.Module):\n",
    "    def __init__(self, input_dim, hidden_dim, output_dim):\n",
    "        super().__init__()\n",
    "        self.hidden_proj = nn.Linear(input_dim, hidden_dim)\n",
    "        self.output_proj = nn.Linear(hidden_dim, output_dim)\n",
    "                \n",
    "        with torch.no_grad():\n",
    "            torch.nn.init.kaiming_uniform_(self.hidden_proj.weight.data)\n",
    "            torch.nn.init.kaiming_uniform_(self.output_proj.weight.data)\n",
    "            \n",
    "            self.hidden_proj.bias.zero_()\n",
    "            self.output_proj.bias.zero_()\n",
    "        \n",
    "    def forward(self, inputs):\n",
    "        z = self.hidden_proj(inputs)\n",
    "        z = torch.relu(z)\n",
    "        return self.output_proj(z)"
   ],
   "outputs": [],
   "execution_count": 42
  },
  {
   "cell_type": "code",
   "metadata": {
    "ExecuteTime": {
     "end_time": "2024-05-03T07:29:54.138416Z",
     "start_time": "2024-05-03T07:29:54.124164Z"
    }
   },
   "source": [
    "logits = torch.tensor([\n",
    "    [432699.1875, 300807.1250, 389614.0312, 396122.1562, 410441.5625, 280411.0000, 426984.9375, 382853.3750, 427784.6875, 344430.3125],\n",
    "    [174335.7188, 121234.3125, 156996.5781, 159618.2188, 165396.4844, 112990.3438, 172047.2812, 154292.2500, 172379.9531, 138800.5625],\n",
    "    [284093.5625, 197565.0625, 255842.6250, 260127.5938, 269514.0312, 184131.4375, 280361.3125, 251412.3125, 280909.1250, 226173.8438],\n",
    "    [219632.6406, 152675.4844, 197763.0312, 201069.3125, 208362.4062, 142334.1094, 216726.0625, 194384.1094, 217143.9688, 174859.1250],\n",
    "    ])\n",
    "\n",
    "labels = torch.tensor([8, 7, 3, 7])\n",
    "\n",
    "perfect_logits = torch.tensor([\n",
    "    [0, 0, 0, 0, 0, 0, 0, 0, 427784.6875, 0],\n",
    "    [0, 0, 0, 0, 0, 0, 0, 154292.2500, 0, 0],\n",
    "    [0, 0, 0, 260127.5938, 0, 0, 0, 0, 0, 0],\n",
    "    [0, 0, 0, 0, 0, 0, 0, 194384.1094, 0, 0]\n",
    "    ])\n",
    "\n",
    "def nll_loss_custom(logits, labels):\n",
    "    # Calculate the range of indices for the batch elements  \n",
    "    batch_indices = range(logits.shape[0])\n",
    "    # Select the logit for the correct label of each batch element  \n",
    "    selected_logits = logits[batch_indices, labels]\n",
    "    # Use the logsumexp function to calculate the log of the sum of exponentials of the logits  \n",
    "    log_sum_exp = torch.logsumexp(logits, dim=1)\n",
    "    # Calculate the mean negative log likelihood loss for the batch  \n",
    "    loss = - selected_logits + log_sum_exp\n",
    "    return loss.mean()\n",
    "\n",
    "\n",
    "print(f\"F.nll_loss : {F.nll_loss(F.log_softmax(logits, dim=1), labels,reduction='mean')}\")\n",
    "# print(f'nll_loss_custom : {nll_loss_custom(F.log_softmax(logits, dim=1), labels)}')\n",
    "print(f'nll_loss_custom : {nll_loss_custom(logits, labels)}')\n",
    "print(f'nll_loss_custom perfect pred : {nll_loss_custom(perfect_logits, labels)}')\n",
    "\n",
    "# assert F.nll_loss(logits, labels) == nll_loss_custom(logits, labels)\n",
    "\n"
   ],
   "outputs": [
    {
     "name": "stdout",
     "output_type": "stream",
     "text": [
      "F.nll_loss : 18543.1171875\n",
      "nll_loss_custom : 18543.1171875\n",
      "nll_loss_custom perfect pred : 0.0\n"
     ]
    }
   ],
   "execution_count": 43
  },
  {
   "cell_type": "code",
   "metadata": {
    "ExecuteTime": {
     "end_time": "2024-05-02T09:21:02.454598Z",
     "start_time": "2024-05-02T09:17:05.826960Z"
    }
   },
   "source": [
    "# Example of a training loop! :)\n",
    "\n",
    "# hyper-parameters\n",
    "n_epochs = 10\n",
    "batch_size = 5\n",
    "\n",
    "# Build the network\n",
    "network = MLPClassifier(784, 200, 10)\n",
    "network.to(device)\n",
    "\n",
    "optimizer = torch.optim.SGD(network.parameters(), lr=1e-3, momentum=0.9)\n",
    "\n",
    "start = time.time()\n",
    "for epoch in range(n_epochs):\n",
    "    print(\"%i / %i\" % (epoch+1, n_epochs))\n",
    "    \n",
    "    random.shuffle(train_data)\n",
    "    \n",
    "    network.train()\n",
    "    \n",
    "    for first_element in range(0, len(train_data), batch_size):\n",
    "        optimizer.zero_grad()\n",
    "        \n",
    "        batch_input, labels = build_batch(train_data[first_element:first_element + batch_size])\n",
    "        batch_input = batch_input.to(device)\n",
    "        labels = labels.to(device)\n",
    "        logits = network(batch_input)          \n",
    "        # Modified loss to take into account partial labeling\n",
    "        loss = nll_loss_custom(logits, labels)\n",
    "        \n",
    "        loss.backward()\n",
    "\n",
    "        optimizer.step()\n",
    "        \n",
    "    n_correct = 0\n",
    "    with torch.no_grad(): \n",
    "        network.eval()\n",
    "        \n",
    "        for first_element in range(0, len(dev_data), batch_size):\n",
    "            optimizer.zero_grad()\n",
    "\n",
    "            batch_input, labels = build_batch(dev_data[first_element:first_element + batch_size])\n",
    "            batch_input = batch_input.to(device)\n",
    "            labels = labels.to(device)\n",
    "            logits = network(batch_input)\n",
    "            \n",
    "            prediction = logits.argmax(dim=1)\n",
    "            \n",
    "            n_correct += (prediction == labels).sum().item()\n",
    "\n",
    "    print(\"Dev acc: %.2f\" % (100 * n_correct / len(dev_data)))\n",
    "    \n",
    "print(time.strftime(\"%H:%M:%S\", time.gmtime(time.time()-start)))"
   ],
   "outputs": [
    {
     "name": "stdout",
     "output_type": "stream",
     "text": [
      "1 / 10\n",
      "Dev acc: 93.82\n",
      "2 / 10\n",
      "Dev acc: 95.45\n",
      "3 / 10\n",
      "Dev acc: 96.33\n",
      "4 / 10\n",
      "Dev acc: 96.81\n",
      "5 / 10\n",
      "Dev acc: 97.13\n",
      "6 / 10\n",
      "Dev acc: 97.21\n",
      "7 / 10\n",
      "Dev acc: 97.47\n",
      "8 / 10\n",
      "Dev acc: 97.48\n",
      "9 / 10\n",
      "Dev acc: 97.65\n",
      "10 / 10\n",
      "Dev acc: 97.70\n"
     ]
    }
   ],
   "execution_count": 6
  },
  {
   "cell_type": "markdown",
   "metadata": {},
   "source": [
    "# Partial labeling"
   ]
  },
  {
   "cell_type": "code",
   "metadata": {
    "ExecuteTime": {
     "end_time": "2024-05-03T07:29:56.941143Z",
     "start_time": "2024-05-03T07:29:56.873677Z"
    }
   },
   "source": [
    "print('Before adding noise : ', [data['output_value'] for data in train_data][:50])\n",
    "\n",
    "# Add noise in data, meaning instead of one label for 'output_value', we will have 3 labels in 30% of the cases\n",
    "def add_noise(data):\n",
    "    for i in range(len(data)):\n",
    "        if(random.random() < 0.3):\n",
    "            range_sample = list(range(10))\n",
    "            range_sample.remove(data[i][\"output_value\"])\n",
    "            new_samples = random.sample(range_sample, 2)\n",
    "            new_label = [data[i][\"output_value\"], new_samples[0], new_samples[1]]\n",
    "            random.shuffle(new_label)\n",
    "            data[i][\"output_value\"] = new_label\n",
    "        else:\n",
    "            label = data[i]['output_value']\n",
    "            data[i]['output_value'] = [label]\n",
    "    return data\n",
    "\n",
    "train_data = add_noise(train_data)\n",
    "\n",
    "print('After adding noise : ', [data['output_value'] for data in train_data][:50])\n"
   ],
   "outputs": [
    {
     "name": "stdout",
     "output_type": "stream",
     "text": [
      "Before adding noise :  [0, 2, 0, 3, 6, 4, 4, 3, 1, 9, 0, 2, 9, 6, 4, 4, 1, 8, 0, 2, 3, 2, 8, 0, 0, 7, 6, 7, 4, 2, 0, 7, 0, 0, 6, 8, 5, 3, 4, 4, 8, 2, 1, 8, 0, 0, 5, 9, 0, 9]\n",
      "After adding noise :  [[0], [2], [0, 8, 9], [0, 9, 3], [6], [4], [3, 4, 0], [3], [4, 1, 3], [9], [8, 0, 9], [0, 2, 5], [8, 9, 1], [6, 1, 2], [4], [4], [1], [8], [0], [2], [3], [2], [8], [0], [0], [0, 5, 7], [6, 8, 4], [7], [4], [2], [0, 2, 9], [7], [0], [1, 0, 4], [6], [8, 1, 6], [5], [3], [4], [3, 9, 4], [8], [2], [7, 3, 1], [8], [0], [0], [5], [9], [0, 9, 5], [9]]\n"
     ]
    }
   ],
   "execution_count": 44
  },
  {
   "cell_type": "code",
   "metadata": {
    "ExecuteTime": {
     "end_time": "2024-05-03T07:29:57.281020Z",
     "start_time": "2024-05-03T07:29:57.263449Z"
    }
   },
   "source": [
    "logits = torch.tensor([\n",
    "    [432699.1875, 300807.1250, 389614.0312, 396122.1562, 410441.5625, 280411.0000, 426984.9375, 382853.3750, 427784.6875, 344430.3125],\n",
    "    [174335.7188, 121234.3125, 156996.5781, 159618.2188, 165396.4844, 112990.3438, 172047.2812, 154292.2500, 172379.9531, 138800.5625],\n",
    "    [284093.5625, 197565.0625, 255842.6250, 260127.5938, 269514.0312, 184131.4375, 280361.3125, 251412.3125, 280909.1250, 226173.8438],\n",
    "    [219632.6406, 152675.4844, 197763.0312, 201069.3125, 208362.4062, 142334.1094, 216726.0625, 194384.1094, 217143.9688, 174859.1250],\n",
    "    ])\n",
    "\n",
    "\n",
    "\n",
    "perfect_logits = torch.tensor([\n",
    "    [0, 0, 0, 0, 0, 0, 0, 0, 427784.6875, 0],\n",
    "    [0, 0, 156996.5781, 0, 0, 0, 0, 154292.2500, 0, 0],\n",
    "    [284093.5625, 0, 0, 260127.5938, 0, 0, 0, 251412.3125, 0, 0],\n",
    "    [0, 0, 0, 0, 0, 0, 0, 194384.1094, 0, 0]\n",
    "    ])\n",
    "\n",
    "# Define the number of classes  \n",
    "num_classes = logits.shape[1]  \n",
    "\n",
    "# Create a tensor of labels  \n",
    "labels = [[8], [7, 2], [3, 8, 0], [7]]\n",
    "# print(f'labels : {labels}')\n",
    "tensor_labels = list()\n",
    "for ls in labels:\n",
    "    t = torch.zeros(num_classes, dtype=torch.long)\n",
    "    t[ls] = 1\n",
    "    tensor_labels.append(t)\n",
    "tensor_labels = torch.stack(tensor_labels)\n",
    "print(f'labels one hot : {tensor_labels}')\n",
    "\n",
    "def nll_loss_marginalized(logits, labels):\n",
    "    mask = torch.zeros_like(logits)\n",
    "    mask[labels==0]=float(\"-inf\")\n",
    "    # Select the logit for the correct label/set of labels of each batch element\n",
    "    selected_logits = logits + mask\n",
    "    log_sum_exp_selected_logits = torch.logsumexp(selected_logits, dim=1)\n",
    "    # Use the logsumexp function to calculate the log of the sum of exponentials of the logits  \n",
    "    log_sum_exp = torch.logsumexp(logits, dim=1)\n",
    "    # Calculate the mean negative log likelihood loss for the batch  \n",
    "    loss = - log_sum_exp_selected_logits + log_sum_exp\n",
    "    return loss.mean()\n",
    "\n",
    "print(f'nll_loss_marginalized : {nll_loss_marginalized(logits, tensor_labels)}')\n",
    "print(f'nll_loss_marginalized perfect prediction : {nll_loss_marginalized(perfect_logits, tensor_labels)}')\n"
   ],
   "outputs": [
    {
     "name": "stdout",
     "output_type": "stream",
     "text": [
      "labels one hot : tensor([[0, 0, 0, 0, 0, 0, 0, 0, 1, 0],\n",
      "        [0, 0, 1, 0, 0, 0, 0, 1, 0, 0],\n",
      "        [1, 0, 0, 1, 0, 0, 0, 0, 1, 0],\n",
      "        [0, 0, 0, 0, 0, 0, 0, 1, 0, 0]])\n",
      "nll_loss_marginalized : 11875.54296875\n",
      "nll_loss_marginalized perfect prediction : 0.0\n"
     ]
    }
   ],
   "execution_count": 45
  },
  {
   "cell_type": "code",
   "metadata": {
    "ExecuteTime": {
     "end_time": "2024-05-03T07:29:57.744645Z",
     "start_time": "2024-05-03T07:29:57.726472Z"
    }
   },
   "source": [
    "def build_batch_noised(data, num_classes):\n",
    "    batch_inputs = torch.cat(\n",
    "        [data[\"input_tensor\"] for data in data],\n",
    "        dim=0\n",
    "    )\n",
    "\n",
    "    labels = [data[\"output_value\"] for data in data]\n",
    "\n",
    "    labels = [F.one_hot(torch.tensor(l), num_classes =num_classes) if isinstance(l,int) else sum(F.one_hot(torch.tensor(l), num_classes =num_classes)) for l in labels]\n",
    "    labels = torch.stack(labels)\n",
    "    \n",
    "    return batch_inputs, labels\n",
    "print('After adding noise : ', [data['output_value'] for data in train_data][:5])\n",
    "print(build_batch_noised(train_data[:5], 10)[1])"
   ],
   "outputs": [
    {
     "name": "stdout",
     "output_type": "stream",
     "text": [
      "After adding noise :  [[0], [2], [0, 8, 9], [0, 9, 3], [6]]\n",
      "tensor([[1, 0, 0, 0, 0, 0, 0, 0, 0, 0],\n",
      "        [0, 0, 1, 0, 0, 0, 0, 0, 0, 0],\n",
      "        [1, 0, 0, 0, 0, 0, 0, 0, 1, 1],\n",
      "        [1, 0, 0, 1, 0, 0, 0, 0, 0, 1],\n",
      "        [0, 0, 0, 0, 0, 0, 1, 0, 0, 0]])\n"
     ]
    }
   ],
   "execution_count": 46
  },
  {
   "cell_type": "code",
   "metadata": {
    "ExecuteTime": {
     "end_time": "2024-05-03T08:11:58.056909Z",
     "start_time": "2024-05-03T08:05:08.086886Z"
    }
   },
   "source": [
    "import matplotlib.pyplot as plt  \n",
    "  \n",
    "def count_correct_preds(predictions_one_hot, labels):  \n",
    "    num_correct = 0    \n",
    "    for i in range(predictions_one_hot.size(0)):    \n",
    "        pred = torch.argmax(predictions_one_hot[i])    \n",
    "        label = torch.nonzero(labels[i]).flatten()    \n",
    "        if pred in label:    \n",
    "            num_correct += 1    \n",
    "    return num_correct    \n",
    "  \n",
    "# hyper-parameters  \n",
    "batch_size = 5\n",
    "n_epochs = 10\n",
    "# Build the network  \n",
    "network = MLPClassifier(784, 200, 10)  \n",
    "network.to(device)\n",
    "\n",
    "optimizer = torch.optim.SGD(network.parameters(), lr=1e-3, momentum=0.1)  \n",
    "  \n",
    "train_losses = []  \n",
    "dev_accs = []  \n",
    "  \n",
    "start = time.time()\n",
    "for epoch in range(n_epochs):  \n",
    "    print(\"%i / %i\" % (epoch+1, n_epochs))  \n",
    "      \n",
    "    random.shuffle(train_data)  \n",
    "      \n",
    "    network.train()  \n",
    "    train_loss = 0\n",
    "      \n",
    "    for first_element in range(0, len(train_data), batch_size):  \n",
    "        optimizer.zero_grad()  \n",
    "          \n",
    "        batch_input, labels = build_batch_noised(train_data[first_element:first_element + batch_size], 10)  \n",
    "        batch_input = batch_input.to(device)\n",
    "        labels = labels.to(device)\n",
    "        logits = network(batch_input)  \n",
    "        # Modified loss to take into account partial labeling  \n",
    "        loss = nll_loss_marginalized(logits, labels)  \n",
    "        loss.backward()  \n",
    "  \n",
    "        optimizer.step()  \n",
    "          \n",
    "        train_loss += loss.item()  \n",
    "          \n",
    "    train_losses.append(train_loss / len(train_data))  \n",
    "    n_correct = 0  \n",
    "    with torch.no_grad():   \n",
    "        network.eval()  \n",
    "          \n",
    "        for first_element in range(0, len(dev_data), batch_size):  \n",
    "            batch_input, labels = build_batch_noised(dev_data[first_element:first_element + batch_size], 10)  \n",
    "            batch_input = batch_input.to(device)\n",
    "            labels = labels.to(device)\n",
    "            logits = network(batch_input)  \n",
    "              \n",
    "            prediction = logits.argmax(dim=1)  \n",
    "              \n",
    "            n_correct += count_correct_preds(F.one_hot(prediction, num_classes=10), labels)  \n",
    "  \n",
    "    dev_acc = 100 * n_correct / len(dev_data)  \n",
    "    dev_accs.append(dev_acc)  \n",
    "    print(\"Dev acc: %.2f\" % dev_acc)\n",
    "\n",
    "print(time.strftime(\"%H:%M:%S\", time.gmtime(time.time()-start)))\n",
    "\n",
    "# Plot the training loss and dev accuracy  \n",
    "plt.plot(train_losses)  \n",
    "plt.title('Training Loss')  \n",
    "plt.xlabel('Epoch')  \n",
    "plt.ylabel('Loss')  \n",
    "plt.show()  \n",
    "  \n",
    "plt.plot(dev_accs)  \n",
    "plt.title('Dev Accuracy')  \n",
    "plt.xlabel('Epoch')  \n",
    "plt.ylabel('Accuracy')  \n",
    "plt.show()  \n",
    "\n"
   ],
   "outputs": [
    {
     "name": "stdout",
     "output_type": "stream",
     "text": [
      "1 / 10\n",
      "Dev acc: 89.26\n",
      "2 / 10\n",
      "Dev acc: 90.82\n",
      "3 / 10\n",
      "Dev acc: 91.82\n",
      "4 / 10\n",
      "Dev acc: 92.51\n",
      "5 / 10\n",
      "Dev acc: 92.92\n",
      "6 / 10\n",
      "Dev acc: 93.30\n",
      "7 / 10\n",
      "Dev acc: 93.62\n",
      "8 / 10\n",
      "Dev acc: 93.96\n",
      "9 / 10\n",
      "Dev acc: 94.32\n",
      "10 / 10\n",
      "Dev acc: 94.53\n",
      "00:06:49\n"
     ]
    },
    {
     "data": {
      "text/plain": [
       "<Figure size 640x480 with 1 Axes>"
      ],
      "image/png": "[encoded data removed]"
     },
     "metadata": {},
     "output_type": "display_data"
    },
    {
     "data": {
      "text/plain": [
       "<Figure size 640x480 with 1 Axes>"
      ],
      "image/png": "[encoded data removed]"
     },
     "metadata": {},
     "output_type": "display_data"
    }
   ],
   "execution_count": 48
  },
  {
   "cell_type": "markdown",
   "metadata": {},
   "source": [
    "# Partial Labeling with ratio constraints"
   ]
  },
  {
   "cell_type": "code",
   "metadata": {
    "ExecuteTime": {
     "end_time": "2024-05-03T08:15:48.178905Z",
     "start_time": "2024-05-03T08:15:48.160369Z"
    }
   },
   "source": [
    "def solve_via_bregman(W, mask, ratio, max_iter=10, eps=1):\n",
    "    \"\"\"\n",
    "    1. Select elements of matrix to modify\n",
    "    2. Apply first projection on these elements (condition 1, \\sum mu_i =1)\n",
    "    3. Apply second projection on these elements (condition 2, \\sum mu_i on  =1)\n",
    "    \"\"\"\n",
    "    # Put everything on same device\n",
    "    W = W.to(device)\n",
    "    mask = mask.to(device)\n",
    "    ratio = ratio.to(device)\n",
    "    \n",
    "    not_mask = mask!=1\n",
    "    W = - W.clone() / eps\n",
    "    W[not_mask]=float(\"-inf\")\n",
    "    for _ in range(max_iter):\n",
    "        # Project on first constraint set (sum of columns = 1)\n",
    "        W = torch.log_softmax(W, dim=1)\n",
    "        # Project on second constraint set (sum of lines = b on constrained elements)\n",
    "        W = torch.log_softmax(W, dim=0) + torch.log(ratio)\n",
    "    return W.exp()"
   ],
   "outputs": [],
   "execution_count": 49
  },
  {
   "cell_type": "code",
   "metadata": {
    "ExecuteTime": {
     "end_time": "2024-05-03T08:46:59.844703Z",
     "start_time": "2024-05-03T08:46:59.830115Z"
    }
   },
   "source": [
    "def compute_logsumexp_z(W, mask, ratio):\n",
    "    W = W.to(device)\n",
    "    ratio = ratio.to(device)\n",
    "    mask = mask.to(device)\n",
    "    \n",
    "    ratio = ratio * W.shape[0]\n",
    "    \n",
    "    with torch.no_grad():\n",
    "        P = solve_via_bregman(W, mask, ratio)\n",
    "        \n",
    "    return (P*W).sum(dim=1) - torch.nan_to_num(P*P.log()).sum(dim=1)"
   ],
   "outputs": [],
   "execution_count": 102
  },
  {
   "cell_type": "code",
   "metadata": {
    "ExecuteTime": {
     "end_time": "2024-05-03T08:47:00.132927Z",
     "start_time": "2024-05-03T08:47:00.116188Z"
    }
   },
   "source": [
    "def nll_loss_eer(preds, labels, ratio):\n",
    "    # Perform Bregman Projections to inlcude Expected Entity Ratio on Z\n",
    "    log_sum_exp_Z = compute_logsumexp_z(preds, labels, ratio)\n",
    "    \n",
    "    # Calculate logsumexp on Y\n",
    "    log_sum_exp_Y = torch.logsumexp(preds, dim=1)\n",
    "    \n",
    "    loss = - log_sum_exp_Z.mean() + log_sum_exp_Y.mean()\n",
    "    return loss"
   ],
   "outputs": [],
   "execution_count": 103
  },
  {
   "cell_type": "code",
   "metadata": {
    "ExecuteTime": {
     "end_time": "2024-05-03T08:17:01.946735Z",
     "start_time": "2024-05-03T08:15:49.945656Z"
    }
   },
   "source": [
    "import matplotlib.pyplot as plt  \n",
    "  \n",
    "def count_correct_preds(predictions_one_hot, labels):  \n",
    "    num_correct = 0    \n",
    "    for i in range(predictions_one_hot.size(0)):    \n",
    "        pred = torch.argmax(predictions_one_hot[i])    \n",
    "        label = torch.nonzero(labels[i]).flatten()    \n",
    "        if pred in label:    \n",
    "            num_correct += 1    \n",
    "    return num_correct    \n",
    "  \n",
    "# hyper-parameters  \n",
    "batch_size = int(len(train_data))\n",
    "n_epochs = 10\n",
    "ratio = torch.tensor([0.1 for _ in range(10)])\n",
    "\n",
    "# Build the network  \n",
    "network = MLPClassifier(784, 200, 10)  \n",
    "network.to(device)\n",
    "\n",
    "optimizer = torch.optim.SGD(network.parameters(), lr=1, momentum=0.9)  \n",
    "  \n",
    "train_losses = []  \n",
    "dev_accs = []  \n",
    "\n",
    "start = time.time()\n",
    "\n",
    "for epoch in range(n_epochs):  \n",
    "    print(\"%i / %i\" % (epoch+1, n_epochs))  \n",
    "      \n",
    "    random.shuffle(train_data)  \n",
    "      \n",
    "    network.train()  \n",
    "    train_loss = 0\n",
    "      \n",
    "    for first_element in range(0, len(train_data), batch_size):  \n",
    "        optimizer.zero_grad()  \n",
    "          \n",
    "        batch_input, labels = build_batch_noised(train_data[first_element:first_element + batch_size], 10)\n",
    "        batch_input = batch_input.to(device)\n",
    "        labels = labels.to(device)\n",
    "        logits = network(batch_input)\n",
    "\n",
    "        # Modified loss to take into account partial labeling\n",
    "        loss = nll_loss_eer(F.softmax(logits, dim=1), labels, ratio)  \n",
    "        \n",
    "        print(loss)\n",
    "        \n",
    "        loss.backward(retain_graph=True)  \n",
    "        \n",
    "        optimizer.step()  \n",
    "        \n",
    "        train_loss += loss.item()  \n",
    "          \n",
    "    train_losses.append(train_loss /len(train_data))  \n",
    "\n",
    "    n_correct = 0  \n",
    "    with torch.no_grad():   \n",
    "        network.eval()\n",
    "\n",
    "        for first_element in range(0, len(dev_data), batch_size):  \n",
    "            batch_input, labels = build_batch_noised(dev_data[first_element:first_element + batch_size], 10)  \n",
    "            batch_input = batch_input.to(device)\n",
    "            labels = labels.to(device)\n",
    "            logits = network(batch_input)  \n",
    "            prediction = logits.argmax(dim=1)  \n",
    "              \n",
    "            n_correct += count_correct_preds(F.one_hot(prediction, num_classes=10), labels)  \n",
    "  \n",
    "    dev_acc = 100 * n_correct / len(dev_data)  \n",
    "    dev_accs.append(dev_acc)  \n",
    "    print(\"Dev acc: %.2f\" % dev_acc)\n",
    "      \n",
    "print(time.strftime(\"%H:%M:%S\", time.gmtime(time.time()-start)))\n",
    "\n",
    "# Plot the training loss and dev accuracy  \n",
    "plt.plot(train_losses)  \n",
    "plt.title('Training Loss')  \n",
    "plt.xlabel('Epoch')  \n",
    "plt.ylabel('Loss')  \n",
    "plt.show()  \n",
    "  \n",
    "plt.plot(dev_accs)  \n",
    "plt.title('Dev Accuracy')  \n",
    "plt.xlabel('Epoch')  \n",
    "plt.ylabel('Accuracy')  \n",
    "plt.show() "
   ],
   "outputs": [
    {
     "name": "stdout",
     "output_type": "stream",
     "text": [
      "1 / 10\n",
      "tensor(1.9761, device='mps:0', grad_fn=<AddBackward0>)\n",
      "Dev acc: 20.38\n",
      "2 / 10\n",
      "tensor(1.9675, device='mps:0', grad_fn=<AddBackward0>)\n",
      "Dev acc: 35.17\n",
      "3 / 10\n",
      "tensor(1.9479, device='mps:0', grad_fn=<AddBackward0>)\n",
      "Dev acc: 44.19\n",
      "4 / 10\n",
      "tensor(1.9124, device='mps:0', grad_fn=<AddBackward0>)\n",
      "Dev acc: 50.94\n",
      "5 / 10\n",
      "tensor(1.8645, device='mps:0', grad_fn=<AddBackward0>)\n",
      "Dev acc: 58.96\n",
      "6 / 10\n",
      "tensor(1.8050, device='mps:0', grad_fn=<AddBackward0>)\n",
      "Dev acc: 63.33\n",
      "7 / 10\n",
      "tensor(1.7441, device='mps:0', grad_fn=<AddBackward0>)\n",
      "Dev acc: 64.31\n",
      "8 / 10\n",
      "tensor(1.7018, device='mps:0', grad_fn=<AddBackward0>)\n",
      "Dev acc: 64.99\n",
      "9 / 10\n",
      "tensor(1.6786, device='mps:0', grad_fn=<AddBackward0>)\n",
      "Dev acc: 70.10\n",
      "10 / 10\n",
      "tensor(1.6480, device='mps:0', grad_fn=<AddBackward0>)\n",
      "Dev acc: 69.02\n",
      "00:01:11\n"
     ]
    },
    {
     "data": {
      "text/plain": [
       "<Figure size 640x480 with 1 Axes>"
      ],
      "image/png": "[encoded data removed]"
     },
     "metadata": {},
     "output_type": "display_data"
    },
    {
     "data": {
      "text/plain": [
       "<Figure size 640x480 with 1 Axes>"
      ],
      "image/png": "[encoded data removed]"
     },
     "metadata": {},
     "output_type": "display_data"
    }
   ],
   "execution_count": 52
  },
  {
   "cell_type": "code",
   "metadata": {
    "ExecuteTime": {
     "end_time": "2024-05-03T08:17:01.988333Z",
     "start_time": "2024-05-03T08:17:01.947677Z"
    }
   },
   "source": [
    "X_train = [data['input_tensor'] for data in train_data]\n",
    "# ---------------------------------------------------------------\n",
    "Y_train = []\n",
    "for data in train_data:\n",
    "    if type(data['output_value'])==list:\n",
    "        Y_train.append(data['output_value'])\n",
    "    else:\n",
    "        Y_train.append([data['output_value']])\n",
    "# ---------------------------------------------------------------\n",
    "Y_dev = []\n",
    "for data in dev_data:\n",
    "    if type(data['output_value'])==list:\n",
    "        Y_dev.append(data['output_value'])\n",
    "    else:\n",
    "        Y_dev.append([data['output_value']])\n",
    "# ---------------------------------------------------------------\n",
    "label_list=np.unique([item for l in Y_train  for item in l])"
   ],
   "outputs": [],
   "execution_count": 53
  },
  {
   "metadata": {
    "ExecuteTime": {
     "end_time": "2024-05-03T08:19:30.677831Z",
     "start_time": "2024-05-03T08:19:30.630064Z"
    }
   },
   "cell_type": "code",
   "source": [
    "pad_token = -100\n",
    "# Pad Y from data to have the same length\n",
    "max_len = max([len(y) for y in Y_train])\n",
    "Y_train = [y + [pad_token]*(max_len-len(y)) for y in Y_train]\n",
    "print(Y_train[:10])\n",
    "random.shuffle(Y_train)\n",
    "print(Y_train[:10])\n"
   ],
   "outputs": [
    {
     "name": "stdout",
     "output_type": "stream",
     "text": [
      "[[0, -100, -100], [7, -100, -100], [5, -100, -100], [0, -100, -100], [7, -100, -100], [1, 3, 6], [8, -100, -100], [1, -100, -100], [6, -100, -100], [0, -100, -100]]\n",
      "[[0, -100, -100], [1, -100, -100], [0, 4, 9], [2, 6, 9], [8, -100, -100], [2, -100, -100], [6, -100, -100], [5, -100, -100], [2, -100, -100], [2, -100, -100]]\n"
     ]
    }
   ],
   "execution_count": 57
  },
  {
   "metadata": {
    "ExecuteTime": {
     "end_time": "2024-05-03T08:46:07.241119Z",
     "start_time": "2024-05-03T08:46:05.420852Z"
    }
   },
   "cell_type": "code",
   "source": [
    "import torch\n",
    "from torch.utils.data import DataLoader, Dataset\n",
    "import numpy as np\n",
    "\n",
    "\n",
    "class MNISTDataset(Dataset):\n",
    "    def __init__(self, data, labels):\n",
    "        self.data = data\n",
    "        self.labels = labels.copy()\n",
    "        # Convert labels to one hot encoding by ignoring the padding token\n",
    "        for i in range(len(self.labels)):\n",
    "            self.labels[i] = [item for item in self.labels[i] if item != -100]\n",
    "            self.labels[i] = F.one_hot(torch.tensor(self.labels[i]), num_classes=10).sum(dim=0)\n",
    "\n",
    "    def __len__(self):\n",
    "        return len(self.data)\n",
    "\n",
    "    def __getitem__(self, idx):\n",
    "        if torch.is_tensor(idx):\n",
    "            idx = idx.tolist()\n",
    "            \n",
    "        return self.data[idx], self.labels[idx]\n",
    "\n",
    "                \n",
    "class CustomSampler():\n",
    "    def __init__(self, data, ratio, batch_size):\n",
    "        self.ratio = ratio*batch_size\n",
    "        self.label_list = range(10)\n",
    "        self.indices_by_class = {label:[] for label in self.label_list if label != -100}\n",
    "        self.num_samples = len(data)\n",
    "        self.data = data\n",
    "        for i, y in enumerate(data):\n",
    "            for label in y :\n",
    "                if label != -100:\n",
    "                    self.indices_by_class[label].append(i)\n",
    "        \n",
    "        self.batch_size = batch_size\n",
    "    \n",
    "    def __iter__(self):\n",
    "        indices = 0\n",
    "        indices_by_class_copy = {k: v.copy() for k, v in self.indices_by_class.items()} # Create a copy of the dictionary\n",
    "        for k, v in indices_by_class_copy.items():\n",
    "            random.shuffle(v)\n",
    "        while indices < self.num_samples:\n",
    "            batch = []\n",
    "            # Modify the while test. It should not be on len(batch) but on the ratio of each class in the batch\n",
    "            while len(batch) < self.batch_size:\n",
    "                loop_ratio = self.ratio.clone()\n",
    "                norm_ratio = loop_ratio/loop_ratio.sum()\n",
    "                # print(loop_ratio)\n",
    "                # print(norm_ratio.sum())\n",
    "                # Select a class\n",
    "                class_ = np.random.choice(range(10), p=norm_ratio)\n",
    "                # If there are still samples available for the selected class\n",
    "                if len(indices_by_class_copy[class_]) > 0:\n",
    "                    chosen_idx = indices_by_class_copy[class_].pop()\n",
    "                    # Pop an index from the list of indices for this class and add it to the batch\n",
    "                    batch.append(chosen_idx)\n",
    "                    # Update the ratio tensor by subtracting 1 from the count of the selected class\n",
    "                    indices += 1\n",
    "                    loop_ratio[class_] -= 1\n",
    "                    # Remove the selected index from the list of indices of other classes (in case it is a partial label)\n",
    "                    for label in self.data[chosen_idx]:\n",
    "                        if label != -100 and label != class_:\n",
    "                            indices_by_class_copy[label].remove(chosen_idx)\n",
    "                            loop_ratio[label] -= 1\n",
    "            yield from iter(batch)\n",
    "\n",
    "    def __len__(self):\n",
    "        return self.num_samples\n",
    "    \n",
    "def collate_fn(batch):\n",
    "    inputs, labels = zip(*batch)\n",
    "    return torch.cat(inputs, dim=0), torch.stack(labels)\n",
    "\n",
    "# Usage\n",
    "batch_size = 10000  # Replace with your actual batch size\n",
    "ratio = ratio_train.clone()  # Replace with your actual ratio\n",
    "sampler = CustomSampler(Y_train.copy(), ratio, batch_size)\n",
    "\n",
    "dataloader = DataLoader(MNISTDataset([data['input_tensor'] for data in train_data], Y_train), batch_size=batch_size, sampler=sampler, collate_fn=collate_fn)\n",
    "\n",
    "for batch in dataloader:    \n",
    "    print(batch[0].shape, batch[1].shape)\n",
    "\n",
    "# dev_sampler = CustomSampler(Y_dev.copy(), ratio, batch_size)\n",
    "# dev_dataloader = DataLoader(MNISTDataset([data['input_tensor'] for data in dev_data], Y_dev), batch_size=10000, sampler=dev_sampler,  collate_fn=collate_fn)\n",
    "# \n",
    "# for batch in dev_dataloader:    \n",
    "#     print(batch[0].shape, batch[1].shape)"
   ],
   "outputs": [
    {
     "name": "stdout",
     "output_type": "stream",
     "text": [
      "torch.Size([10000, 784]) torch.Size([10000, 10])\n",
      "torch.Size([10000, 784]) torch.Size([10000, 10])\n",
      "torch.Size([10000, 784]) torch.Size([10000, 10])\n",
      "torch.Size([10000, 784]) torch.Size([10000, 10])\n",
      "torch.Size([10000, 784]) torch.Size([10000, 10])\n"
     ]
    }
   ],
   "execution_count": 99
  },
  {
   "metadata": {
    "ExecuteTime": {
     "end_time": "2024-05-03T08:46:09.021630Z",
     "start_time": "2024-05-03T08:46:08.977420Z"
    }
   },
   "cell_type": "code",
   "source": [
    "# Check ratio of labels\n",
    "def check_ratio(data):\n",
    "    labels = [data['output_value'] for data in data]\n",
    "    labels = [l if isinstance(l, list) else [l] for l in labels]\n",
    "    labels = [item for sublist in labels for item in sublist]\n",
    "    label_list = np.unique(labels)\n",
    "    ratio = [labels.count(label) for label in label_list]\n",
    "    ratio = [r/len(labels) for r in ratio]\n",
    "    return ratio\n",
    "\n",
    "print(torch.tensor(check_ratio(train_data)))\n",
    "print(check_ratio(dev_data))"
   ],
   "outputs": [
    {
     "name": "stdout",
     "output_type": "stream",
     "text": [
      "tensor([0.1001, 0.1088, 0.0995, 0.1003, 0.0980, 0.0949, 0.0990, 0.1024, 0.0982,\n",
      "        0.0988])\n",
      "[0.0991, 0.1064, 0.099, 0.103, 0.0983, 0.0915, 0.0967, 0.109, 0.1009, 0.0961]\n"
     ]
    }
   ],
   "execution_count": 100
  },
  {
   "metadata": {
    "ExecuteTime": {
     "end_time": "2024-05-03T08:48:25.558460Z",
     "start_time": "2024-05-03T08:47:05.242609Z"
    }
   },
   "cell_type": "code",
   "source": [
    "# hyper-parameters  \n",
    "train_batch_size = 10000\n",
    "dev_batch_size = 10000\n",
    "n_epochs = 10\n",
    "ratio_train = torch.tensor(check_ratio(train_data))\n",
    "ratio_dev = torch.tensor(check_ratio(dev_data))\n",
    "\n",
    "# DataLoader & Sampler\n",
    "train_sampler = CustomSampler(Y_train.copy(), ratio_train, batch_size)\n",
    "dev_sampler = CustomSampler(Y_dev.copy(), ratio_dev, dev_batch_size)\n",
    "\n",
    "train_dataloader = DataLoader(MNISTDataset([data['input_tensor'] for data in train_data], Y_train), batch_size=train_batch_size, sampler=train_sampler, collate_fn=collate_fn)\n",
    "dev_dataloader = DataLoader(MNISTDataset([data['input_tensor'] for data in dev_data], Y_dev), batch_size=dev_batch_size, sampler=dev_sampler,  collate_fn=collate_fn)\n",
    "\n",
    "# Build the network  \n",
    "network = MLPClassifier(784, 200, 10)  \n",
    "network.to(device)\n",
    "\n",
    "optimizer = torch.optim.SGD(network.parameters(), lr=1, momentum=0.9)  \n",
    "  \n",
    "train_losses = []  \n",
    "dev_accs = []  \n",
    "\n",
    "start = time.time()\n",
    "\n",
    "print('Start training')\n",
    "for epoch in range(n_epochs):\n",
    "    print(\"%i / %i\" % (epoch+1, n_epochs))  \n",
    "          \n",
    "    network.train()  \n",
    "    train_loss = 0\n",
    "    for batch in train_dataloader:\n",
    "        optimizer.zero_grad()  \n",
    "          \n",
    "        batch_input, labels = batch\n",
    "        batch_input = batch_input.to(device)\n",
    "        labels = labels.to(device)\n",
    "        logits = network(batch_input)\n",
    "        \n",
    "        # Modified loss to take into account partial labeling\n",
    "        loss = nll_loss_eer(F.softmax(logits, dim=1), labels, ratio)  \n",
    "\n",
    "        loss.backward()  \n",
    "\n",
    "        optimizer.step()  \n",
    "        \n",
    "        train_loss += loss.item()  \n",
    "          \n",
    "    train_losses.append(train_loss /len(train_data))  \n",
    "\n",
    "    n_correct = 0  \n",
    "    with torch.no_grad():   \n",
    "        network.eval()\n",
    "        print('Evaluating...')\n",
    "        for batch in dev_dataloader:\n",
    "            batch_input, labels = batch\n",
    "            batch_input = batch_input.to(device)\n",
    "            labels = labels.to(device)\n",
    "            logits = network(batch_input)\n",
    "              \n",
    "            prediction = logits.argmax(dim=1)  \n",
    "              \n",
    "            n_correct += count_correct_preds(F.one_hot(prediction, num_classes=10), labels)  \n",
    "  \n",
    "    dev_acc = 100 * n_correct / len(dev_data)  \n",
    "    dev_accs.append(dev_acc)  \n",
    "    print(\"Dev acc: %.2f\" % dev_acc)\n",
    "      \n",
    "print(time.strftime(\"%H:%M:%S\", time.gmtime(time.time()-start)))\n",
    "\n",
    "# Plot the training loss and dev accuracy  \n",
    "plt.plot(train_losses)  \n",
    "plt.title('Training Loss')  \n",
    "plt.xlabel('Epoch')  \n",
    "plt.ylabel('Loss')  \n",
    "plt.show()  \n",
    "  \n",
    "plt.plot(dev_accs)  \n",
    "plt.title('Dev Accuracy')  \n",
    "plt.xlabel('Epoch')  \n",
    "plt.ylabel('Accuracy')  \n",
    "plt.show() "
   ],
   "outputs": [
    {
     "name": "stdout",
     "output_type": "stream",
     "text": [
      "Start training\n",
      "1 / 10\n",
      "Evaluating...\n",
      "Dev acc: 11.61\n",
      "2 / 10\n",
      "Evaluating...\n",
      "Dev acc: 11.36\n",
      "3 / 10\n",
      "Evaluating...\n",
      "Dev acc: 13.17\n",
      "4 / 10\n",
      "Evaluating...\n",
      "Dev acc: 15.01\n",
      "5 / 10\n",
      "Evaluating...\n",
      "Dev acc: 14.26\n",
      "6 / 10\n",
      "Evaluating...\n",
      "Dev acc: 15.23\n",
      "7 / 10\n",
      "Evaluating...\n",
      "Dev acc: 15.88\n",
      "8 / 10\n",
      "Evaluating...\n",
      "Dev acc: 15.03\n",
      "9 / 10\n",
      "Evaluating...\n",
      "Dev acc: 15.16\n",
      "10 / 10\n",
      "Evaluating...\n",
      "Dev acc: 15.71\n",
      "00:01:19\n"
     ]
    },
    {
     "data": {
      "text/plain": [
       "<Figure size 640x480 with 1 Axes>"
      ],
      "image/png": "[encoded data removed]"
     },
     "metadata": {},
     "output_type": "display_data"
    },
    {
     "data": {
      "text/plain": [
       "<Figure size 640x480 with 1 Axes>"
      ],
      "image/png": "[encoded data removed]"
     },
     "metadata": {},
     "output_type": "display_data"
    }
   ],
   "execution_count": 104
  }
 ],
 "metadata": {
  "kernelspec": {
   "display_name": "notebooks",
   "language": "python",
   "name": "notebooks"
  },
  "language_info": {
   "codemirror_mode": {
    "name": "ipython",
    "version": 3
   },
   "file_extension": ".py",
   "mimetype": "text/x-python",
   "name": "python",
   "nbconvert_exporter": "python",
   "pygments_lexer": "ipython3",
   "version": "3.11.5"
  }
 },
 "nbformat": 4,
 "nbformat_minor": 2
}
