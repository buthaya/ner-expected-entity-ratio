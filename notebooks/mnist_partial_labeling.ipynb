{
 "cells": [
  {
   "cell_type": "code",
   "metadata": {
    "ExecuteTime": {
     "end_time": "2024-05-02T14:22:26.893655Z",
     "start_time": "2024-05-02T14:22:26.868356Z"
    }
   },
   "source": [
    "%load_ext autoreload\n",
    "%autoreload 2\n",
    "import os, random\n",
    "import numpy as np\n",
    "import dataset_loader\n",
    "import torch\n",
    "import torch.nn as nn\n",
    "import torch.nn.functional as F\n",
    "from tqdm import tqdm\n",
    "import time\n",
    "\n",
    "device = torch.device('mps') if torch.backends.mps.is_available() else torch.device('cuda') if torch.cuda.is_available() else torch.device('cpu')"
   ],
   "outputs": [],
   "execution_count": 4
  },
  {
   "cell_type": "code",
   "metadata": {
    "ExecuteTime": {
     "end_time": "2024-05-02T14:22:27.650373Z",
     "start_time": "2024-05-02T14:22:27.165797Z"
    }
   },
   "source": [
    "# Download mnist dataset \n",
    "if(\"mnist.pkl.gz\" not in os.listdir(\".\")):\n",
    "    !wget https://github.com/mnielsen/neural-networks-and-deep-learning/blob/master/data/mnist.pkl.gz\n",
    "\n",
    "# if you have it somewhere else, you can comment the lines above\n",
    "# and overwrite the path below\n",
    "mnist_path = \"./mnist.pkl.gz\"\n",
    "\n",
    "# load the 3 splits\n",
    "train_data, dev_data, test_data = dataset_loader.load_mnist(mnist_path)\n",
    "\n",
    "def build_torch_inputs(data):\n",
    "    x, y = data\n",
    "    ret = list()\n",
    "    \n",
    "    for i in range(x.shape[0]):\n",
    "        input_tensor = torch.from_numpy(x[i]).reshape(1, -1)\n",
    "        output_value = int(y[i])\n",
    "        \n",
    "        ret.append({\n",
    "            \"input_tensor\": input_tensor,\n",
    "            \"output_value\": output_value\n",
    "        })\n",
    "        \n",
    "    return ret\n",
    "        \n",
    "train_data = build_torch_inputs(train_data)\n",
    "dev_data = build_torch_inputs(dev_data)\n",
    "test_data = build_torch_inputs(test_data)"
   ],
   "outputs": [],
   "execution_count": 5
  },
  {
   "cell_type": "code",
   "metadata": {
    "ExecuteTime": {
     "end_time": "2024-05-02T14:22:28.132944Z",
     "start_time": "2024-05-02T14:22:28.124480Z"
    }
   },
   "source": [
    "# just a helper function\n",
    "def build_batch(data):\n",
    "    batch_inputs = torch.cat(\n",
    "        [data[\"input_tensor\"] for data in data],\n",
    "        dim=0\n",
    "    )\n",
    "\n",
    "    labels = torch.LongTensor([data[\"output_value\"] for data in data ])\n",
    "    \n",
    "    return batch_inputs, labels"
   ],
   "outputs": [],
   "execution_count": 6
  },
  {
   "cell_type": "code",
   "metadata": {
    "ExecuteTime": {
     "end_time": "2024-05-02T14:22:28.969025Z",
     "start_time": "2024-05-02T14:22:28.955746Z"
    }
   },
   "source": [
    "# A network network is a class extending nn.Module\n",
    "class MLPClassifier(nn.Module):\n",
    "    def __init__(self, input_dim, hidden_dim, output_dim):\n",
    "        super().__init__()\n",
    "        self.hidden_proj = nn.Linear(input_dim, hidden_dim)\n",
    "        self.output_proj = nn.Linear(hidden_dim, output_dim)\n",
    "                \n",
    "        with torch.no_grad():\n",
    "            torch.nn.init.kaiming_uniform_(self.hidden_proj.weight.data)\n",
    "            torch.nn.init.kaiming_uniform_(self.output_proj.weight.data)\n",
    "            \n",
    "            self.hidden_proj.bias.zero_()\n",
    "            self.output_proj.bias.zero_()\n",
    "        \n",
    "    def forward(self, inputs):\n",
    "        z = self.hidden_proj(inputs)\n",
    "        z = torch.relu(z)\n",
    "        return self.output_proj(z)"
   ],
   "outputs": [],
   "execution_count": 7
  },
  {
   "cell_type": "code",
   "metadata": {
    "ExecuteTime": {
     "end_time": "2024-05-02T14:22:29.856415Z",
     "start_time": "2024-05-02T14:22:29.840402Z"
    }
   },
   "source": [
    "logits = torch.tensor([\n",
    "    [432699.1875, 300807.1250, 389614.0312, 396122.1562, 410441.5625, 280411.0000, 426984.9375, 382853.3750, 427784.6875, 344430.3125],\n",
    "    [174335.7188, 121234.3125, 156996.5781, 159618.2188, 165396.4844, 112990.3438, 172047.2812, 154292.2500, 172379.9531, 138800.5625],\n",
    "    [284093.5625, 197565.0625, 255842.6250, 260127.5938, 269514.0312, 184131.4375, 280361.3125, 251412.3125, 280909.1250, 226173.8438],\n",
    "    [219632.6406, 152675.4844, 197763.0312, 201069.3125, 208362.4062, 142334.1094, 216726.0625, 194384.1094, 217143.9688, 174859.1250],\n",
    "    ])\n",
    "\n",
    "labels = torch.tensor([8, 7, 3, 7])\n",
    "\n",
    "perfect_logits = torch.tensor([\n",
    "    [0, 0, 0, 0, 0, 0, 0, 0, 427784.6875, 0],\n",
    "    [0, 0, 0, 0, 0, 0, 0, 154292.2500, 0, 0],\n",
    "    [0, 0, 0, 260127.5938, 0, 0, 0, 0, 0, 0],\n",
    "    [0, 0, 0, 0, 0, 0, 0, 194384.1094, 0, 0]\n",
    "    ])\n",
    "\n",
    "def nll_loss_custom(logits, labels):\n",
    "    # Calculate the range of indices for the batch elements  \n",
    "    batch_indices = range(logits.shape[0])\n",
    "    # Select the logit for the correct label of each batch element  \n",
    "    selected_logits = logits[batch_indices, labels]\n",
    "    # Use the logsumexp function to calculate the log of the sum of exponentials of the logits  \n",
    "    log_sum_exp = torch.logsumexp(logits, dim=1)\n",
    "    # Calculate the mean negative log likelihood loss for the batch  \n",
    "    loss = - selected_logits + log_sum_exp\n",
    "    return loss.mean()\n",
    "\n",
    "\n",
    "print(f\"F.nll_loss : {F.nll_loss(F.log_softmax(logits, dim=1), labels,reduction='mean')}\")\n",
    "# print(f'nll_loss_custom : {nll_loss_custom(F.log_softmax(logits, dim=1), labels)}')\n",
    "print(f'nll_loss_custom : {nll_loss_custom(logits, labels)}')\n",
    "print(f'nll_loss_custom perfect pred : {nll_loss_custom(perfect_logits, labels)}')\n",
    "\n",
    "# assert F.nll_loss(logits, labels) == nll_loss_custom(logits, labels)\n",
    "\n"
   ],
   "outputs": [
    {
     "name": "stdout",
     "output_type": "stream",
     "text": [
      "F.nll_loss : 18543.1171875\n",
      "nll_loss_custom : 18543.1171875\n",
      "nll_loss_custom perfect pred : 0.0\n"
     ]
    }
   ],
   "execution_count": 8
  },
  {
   "cell_type": "code",
   "metadata": {
    "ExecuteTime": {
     "end_time": "2024-05-02T09:21:02.454598Z",
     "start_time": "2024-05-02T09:17:05.826960Z"
    }
   },
   "source": [
    "# Example of a training loop! :)\n",
    "\n",
    "# hyper-parameters\n",
    "n_epochs = 10\n",
    "batch_size = 5\n",
    "\n",
    "# Build the network\n",
    "network = MLPClassifier(784, 200, 10)\n",
    "network.to(device)\n",
    "\n",
    "optimizer = torch.optim.SGD(network.parameters(), lr=1e-3, momentum=0.9)\n",
    "\n",
    "start = time.time()\n",
    "for epoch in range(n_epochs):\n",
    "    print(\"%i / %i\" % (epoch+1, n_epochs))\n",
    "    \n",
    "    random.shuffle(train_data)\n",
    "    \n",
    "    network.train()\n",
    "    \n",
    "    for first_element in range(0, len(train_data), batch_size):\n",
    "        optimizer.zero_grad()\n",
    "        \n",
    "        batch_input, labels = build_batch(train_data[first_element:first_element + batch_size])\n",
    "        batch_input = batch_input.to(device)\n",
    "        labels = labels.to(device)\n",
    "        logits = network(batch_input)          \n",
    "        # Modified loss to take into account partial labeling\n",
    "        loss = nll_loss_custom(logits, labels)\n",
    "        \n",
    "        loss.backward()\n",
    "\n",
    "        optimizer.step()\n",
    "        \n",
    "    n_correct = 0\n",
    "    with torch.no_grad(): \n",
    "        network.eval()\n",
    "        \n",
    "        for first_element in range(0, len(dev_data), batch_size):\n",
    "            optimizer.zero_grad()\n",
    "\n",
    "            batch_input, labels = build_batch(dev_data[first_element:first_element + batch_size])\n",
    "            batch_input = batch_input.to(device)\n",
    "            labels = labels.to(device)\n",
    "            logits = network(batch_input)\n",
    "            \n",
    "            prediction = logits.argmax(dim=1)\n",
    "            \n",
    "            n_correct += (prediction == labels).sum().item()\n",
    "\n",
    "    print(\"Dev acc: %.2f\" % (100 * n_correct / len(dev_data)))\n",
    "    \n",
    "print(time.strftime(\"%H:%M:%S\", time.gmtime(time.time()-start)))"
   ],
   "outputs": [
    {
     "name": "stdout",
     "output_type": "stream",
     "text": [
      "1 / 10\n",
      "Dev acc: 93.82\n",
      "2 / 10\n",
      "Dev acc: 95.45\n",
      "3 / 10\n",
      "Dev acc: 96.33\n",
      "4 / 10\n",
      "Dev acc: 96.81\n",
      "5 / 10\n",
      "Dev acc: 97.13\n",
      "6 / 10\n",
      "Dev acc: 97.21\n",
      "7 / 10\n",
      "Dev acc: 97.47\n",
      "8 / 10\n",
      "Dev acc: 97.48\n",
      "9 / 10\n",
      "Dev acc: 97.65\n",
      "10 / 10\n",
      "Dev acc: 97.70\n"
     ]
    }
   ],
   "execution_count": 6
  },
  {
   "cell_type": "markdown",
   "metadata": {},
   "source": [
    "# Partial labeling"
   ]
  },
  {
   "cell_type": "code",
   "metadata": {
    "ExecuteTime": {
     "end_time": "2024-05-02T14:22:32.955807Z",
     "start_time": "2024-05-02T14:22:32.853878Z"
    }
   },
   "source": [
    "print('Before adding noise : ', [data['output_value'] for data in train_data][:50])\n",
    "\n",
    "# Add noise in data, meaning instead of one label for 'output_value', we will have 3 labels in 30% of the cases\n",
    "def add_noise(data):\n",
    "    for i in range(len(data)):\n",
    "        if(random.random() < 0.3):\n",
    "            range_sample = list(range(10))\n",
    "            range_sample.remove(data[i][\"output_value\"])\n",
    "            new_samples = random.sample(range_sample, 2)\n",
    "            new_label = [data[i][\"output_value\"], new_samples[0], new_samples[1]]\n",
    "            random.shuffle(new_label)\n",
    "            data[i][\"output_value\"] = new_label\n",
    "        else:\n",
    "            label = data[i]['output_value']\n",
    "            data[i]['output_value'] = [label]\n",
    "    return data\n",
    "\n",
    "train_data = add_noise(train_data)\n",
    "\n",
    "print('After adding noise : ', [data['output_value'] for data in train_data][:50])\n"
   ],
   "outputs": [
    {
     "name": "stdout",
     "output_type": "stream",
     "text": [
      "Before adding noise :  [5, 8, 4, 1, 2, 3, 3, 4, 4, 3, 4, 8, 2, 8, 8, 4, 5, 8, 2, 9, 3, 3, 9, 5, 4, 1, 5, 5, 2, 7, 9, 7, 1, 5, 1, 7, 2, 0, 0, 3, 2, 7, 7, 3, 3, 8, 5, 7, 4, 1]\n",
      "After adding noise :  [[3, 5, 0], [4, 3, 8], [4], [1], [2], [9, 5, 3], [8, 3, 4], [4], [4], [3], [4], [8], [2], [3, 1, 8], [8, 6, 1], [4], [5, 7, 8], [8], [2], [9], [2, 3, 4], [3], [9, 8, 0], [5, 4, 3], [4], [3, 1, 8], [5], [5], [4, 2, 9], [7], [9, 4, 7], [7], [1], [5], [1], [9, 0, 7], [4, 5, 2], [0], [0], [7, 9, 3], [3, 0, 2], [7], [7], [3], [3], [8], [5], [2, 0, 7], [3, 4, 2], [1]]\n"
     ]
    }
   ],
   "execution_count": 9
  },
  {
   "cell_type": "code",
   "metadata": {
    "ExecuteTime": {
     "end_time": "2024-05-02T11:52:51.686376Z",
     "start_time": "2024-05-02T11:52:51.673871Z"
    }
   },
   "source": [
    "logits = torch.tensor([\n",
    "    [432699.1875, 300807.1250, 389614.0312, 396122.1562, 410441.5625, 280411.0000, 426984.9375, 382853.3750, 427784.6875, 344430.3125],\n",
    "    [174335.7188, 121234.3125, 156996.5781, 159618.2188, 165396.4844, 112990.3438, 172047.2812, 154292.2500, 172379.9531, 138800.5625],\n",
    "    [284093.5625, 197565.0625, 255842.6250, 260127.5938, 269514.0312, 184131.4375, 280361.3125, 251412.3125, 280909.1250, 226173.8438],\n",
    "    [219632.6406, 152675.4844, 197763.0312, 201069.3125, 208362.4062, 142334.1094, 216726.0625, 194384.1094, 217143.9688, 174859.1250],\n",
    "    ])\n",
    "\n",
    "\n",
    "\n",
    "perfect_logits = torch.tensor([\n",
    "    [0, 0, 0, 0, 0, 0, 0, 0, 427784.6875, 0],\n",
    "    [0, 0, 156996.5781, 0, 0, 0, 0, 154292.2500, 0, 0],\n",
    "    [284093.5625, 0, 0, 260127.5938, 0, 0, 0, 251412.3125, 0, 0],\n",
    "    [0, 0, 0, 0, 0, 0, 0, 194384.1094, 0, 0]\n",
    "    ])\n",
    "\n",
    "# Define the number of classes  \n",
    "num_classes = logits.shape[1]  \n",
    "\n",
    "# Create a tensor of labels  \n",
    "labels = [[8], [7, 2], [3, 8, 0], [7]]\n",
    "# print(f'labels : {labels}')\n",
    "tensor_labels = list()\n",
    "for ls in labels:\n",
    "    t = torch.zeros(num_classes, dtype=torch.long)\n",
    "    t[ls] = 1\n",
    "    tensor_labels.append(t)\n",
    "tensor_labels = torch.stack(tensor_labels)\n",
    "print(f'labels one hot : {tensor_labels}')\n",
    "\n",
    "def nll_loss_marginalized(logits, labels):\n",
    "    mask = torch.zeros_like(logits)\n",
    "    mask[labels==0]=float(\"-inf\")\n",
    "    # Select the logit for the correct label/set of labels of each batch element\n",
    "    selected_logits = logits + mask\n",
    "    log_sum_exp_selected_logits = torch.logsumexp(selected_logits, dim=1)\n",
    "    # Use the logsumexp function to calculate the log of the sum of exponentials of the logits  \n",
    "    log_sum_exp = torch.logsumexp(logits, dim=1)\n",
    "    # Calculate the mean negative log likelihood loss for the batch  \n",
    "    loss = - log_sum_exp_selected_logits + log_sum_exp\n",
    "    return loss.mean()\n",
    "\n",
    "print(f'nll_loss_marginalized : {nll_loss_marginalized(logits, tensor_labels)}')\n",
    "print(f'nll_loss_marginalized perfect prediction : {nll_loss_marginalized(perfect_logits, tensor_labels)}')\n"
   ],
   "outputs": [
    {
     "name": "stdout",
     "output_type": "stream",
     "text": [
      "labels one hot : tensor([[0, 0, 0, 0, 0, 0, 0, 0, 1, 0],\n",
      "        [0, 0, 1, 0, 0, 0, 0, 1, 0, 0],\n",
      "        [1, 0, 0, 1, 0, 0, 0, 0, 1, 0],\n",
      "        [0, 0, 0, 0, 0, 0, 0, 1, 0, 0]])\n",
      "nll_loss_marginalized : 11875.54296875\n",
      "nll_loss_marginalized perfect prediction : 0.0\n"
     ]
    }
   ],
   "execution_count": 9
  },
  {
   "cell_type": "code",
   "metadata": {
    "ExecuteTime": {
     "end_time": "2024-05-02T15:12:07.640969Z",
     "start_time": "2024-05-02T15:12:07.615412Z"
    }
   },
   "source": [
    "def build_batch_noised(data, num_classes):\n",
    "    batch_inputs = torch.cat(\n",
    "        [data[\"input_tensor\"] for data in data],\n",
    "        dim=0\n",
    "    )\n",
    "\n",
    "    labels = [data[\"output_value\"] for data in data]\n",
    "\n",
    "    labels = [F.one_hot(torch.tensor(l), num_classes =num_classes) if isinstance(l,int) else sum(F.one_hot(torch.tensor(l), num_classes =num_classes)) for l in labels]\n",
    "    labels = torch.stack(labels)\n",
    "    \n",
    "    return batch_inputs, labels\n",
    "print('After adding noise : ', [data['output_value'] for data in train_data][:5])\n",
    "print(build_batch_noised(train_data[:5], 10)[1])"
   ],
   "outputs": [
    {
     "name": "stdout",
     "output_type": "stream",
     "text": [
      "After adding noise :  [[7, 3, 8], [3], [2, 6, 0], [5], [0, 5, 1]]\n",
      "tensor([[0, 0, 0, 1, 0, 0, 0, 1, 1, 0],\n",
      "        [0, 0, 0, 1, 0, 0, 0, 0, 0, 0],\n",
      "        [1, 0, 1, 0, 0, 0, 1, 0, 0, 0],\n",
      "        [0, 0, 0, 0, 0, 1, 0, 0, 0, 0],\n",
      "        [1, 1, 0, 0, 0, 1, 0, 0, 0, 0]])\n"
     ]
    }
   ],
   "execution_count": 102
  },
  {
   "cell_type": "code",
   "metadata": {
    "ExecuteTime": {
     "end_time": "2024-05-02T09:32:00.087396Z",
     "start_time": "2024-05-02T09:25:00.827921Z"
    }
   },
   "source": [
    "import matplotlib.pyplot as plt  \n",
    "  \n",
    "def count_correct_preds(predictions_one_hot, labels):  \n",
    "    num_correct = 0    \n",
    "    for i in range(predictions_one_hot.size(0)):    \n",
    "        pred = torch.argmax(predictions_one_hot[i])    \n",
    "        label = torch.nonzero(labels[i]).flatten()    \n",
    "        if pred in label:    \n",
    "            num_correct += 1    \n",
    "    return num_correct    \n",
    "  \n",
    "# hyper-parameters  \n",
    "batch_size = 5\n",
    "n_epochs = 10\n",
    "# Build the network  \n",
    "network = MLPClassifier(784, 200, 10)  \n",
    "network.to(device)\n",
    "\n",
    "optimizer = torch.optim.SGD(network.parameters(), lr=1e-3, momentum=0.1)  \n",
    "  \n",
    "train_losses = []  \n",
    "dev_accs = []  \n",
    "  \n",
    "start = time.time()\n",
    "for epoch in range(n_epochs):  \n",
    "    print(\"%i / %i\" % (epoch+1, n_epochs))  \n",
    "      \n",
    "    random.shuffle(train_data)  \n",
    "      \n",
    "    network.train()  \n",
    "    train_loss = 0\n",
    "      \n",
    "    for first_element in range(0, len(train_data), batch_size):  \n",
    "        optimizer.zero_grad()  \n",
    "          \n",
    "        batch_input, labels = build_batch_noised(train_data[first_element:first_element + batch_size], 10)  \n",
    "        batch_input = batch_input.to(device)\n",
    "        labels = labels.to(device)\n",
    "        logits = network(batch_input)  \n",
    "        # Modified loss to take into account partial labeling  \n",
    "        loss = nll_loss_marginalized(logits, labels)  \n",
    "        loss.backward()  \n",
    "  \n",
    "        optimizer.step()  \n",
    "          \n",
    "        train_loss += loss.item()  \n",
    "          \n",
    "    train_losses.append(train_loss / len(train_data))  \n",
    "    n_correct = 0  \n",
    "    with torch.no_grad():   \n",
    "        network.eval()  \n",
    "          \n",
    "        for first_element in range(0, len(dev_data), batch_size):  \n",
    "            batch_input, labels = build_batch_noised(dev_data[first_element:first_element + batch_size], 10)  \n",
    "            batch_input = batch_input.to(device)\n",
    "            labels = labels.to(device)\n",
    "            logits = network(batch_input)  \n",
    "              \n",
    "            prediction = logits.argmax(dim=1)  \n",
    "              \n",
    "            n_correct += count_correct_preds(F.one_hot(prediction, num_classes=10), labels)  \n",
    "  \n",
    "    dev_acc = 100 * n_correct / len(dev_data)  \n",
    "    dev_accs.append(dev_acc)  \n",
    "    print(\"Dev acc: %.2f\" % dev_acc)\n",
    "\n",
    "print(time.strftime(\"%H:%M:%S\", time.gmtime(time.time()-start)))\n",
    "\n",
    "# Plot the training loss and dev accuracy  \n",
    "plt.plot(train_losses)  \n",
    "plt.title('Training Loss')  \n",
    "plt.xlabel('Epoch')  \n",
    "plt.ylabel('Loss')  \n",
    "plt.show()  \n",
    "  \n",
    "plt.plot(dev_accs)  \n",
    "plt.title('Dev Accuracy')  \n",
    "plt.xlabel('Epoch')  \n",
    "plt.ylabel('Accuracy')  \n",
    "plt.show()  \n"
   ],
   "outputs": [
    {
     "name": "stdout",
     "output_type": "stream",
     "text": [
      "1 / 10\n",
      "Dev acc: 89.68\n",
      "2 / 10\n",
      "Dev acc: 91.00\n",
      "3 / 10\n",
      "Dev acc: 91.82\n",
      "4 / 10\n",
      "Dev acc: 92.40\n",
      "5 / 10\n",
      "Dev acc: 92.72\n",
      "6 / 10\n",
      "Dev acc: 92.95\n",
      "7 / 10\n",
      "Dev acc: 93.35\n",
      "8 / 10\n",
      "Dev acc: 94.01\n",
      "9 / 10\n",
      "Dev acc: 94.08\n",
      "10 / 10\n",
      "Dev acc: 94.37\n",
      "00:06:59\n"
     ]
    },
    {
     "data": {
      "text/plain": [
       "<Figure size 640x480 with 1 Axes>"
      ],
      "image/png": "[encoded data removed]"
     },
     "metadata": {},
     "output_type": "display_data"
    },
    {
     "data": {
      "text/plain": [
       "<Figure size 640x480 with 1 Axes>"
      ],
      "image/png": "[encoded data removed]"
     },
     "metadata": {},
     "output_type": "display_data"
    }
   ],
   "execution_count": 12
  },
  {
   "cell_type": "code",
   "metadata": {
    "ExecuteTime": {
     "end_time": "2024-05-02T09:32:00.216216Z",
     "start_time": "2024-05-02T09:32:00.088550Z"
    }
   },
   "source": [
    "import torch\n",
    "import torch.nn as nn\n",
    "import torch.optim as optim\n",
    "import matplotlib.pyplot as plt\n",
    "\n",
    "import transformers\n",
    "\n",
    "n_epochs = 100\n",
    "\n",
    "model = nn.Linear(10, 5)\n",
    "optimizer = optim.SGD(model.parameters(), lr=100)\n",
    "lambda1 = lambda epoch: 0.95 ** epoch\n",
    "scheduler = optim.lr_scheduler.LambdaLR(optimizer, lambda1)\n",
    "\n",
    "lrs = []\n",
    "for i in range(n_epochs):\n",
    "    optimizer.step()\n",
    "    lrs.append(optimizer.param_groups[0][\"lr\"])\n",
    "    scheduler.step()\n",
    "    \n",
    "plt.plot(lrs)\n",
    "plt.show()\n",
    "\n",
    "# ---------------------------------------------------------------------------\n",
    "total_samples = 968\n",
    "bs = 32\n",
    "n_epochs = 10\n",
    "\n",
    "num_warmup_steps = (total_samples // bs) * 2\n",
    "num_total_steps = (total_samples // bs) * n_epochs\n",
    "\n",
    "model = nn.Linear(2, 1)\n",
    "optimizer = optim.SGD(model.parameters(), lr=0.01)\n",
    "scheduler = transformers.get_cosine_schedule_with_warmup(optimizer, \n",
    "                                                         num_warmup_steps=num_warmup_steps, \n",
    "                                                         num_training_steps=num_total_steps)\n",
    "lrs = []\n",
    "for i in range(num_total_steps):\n",
    "    optimizer.step()\n",
    "    lrs.append(optimizer.param_groups[0][\"lr\"])\n",
    "    scheduler.step()\n",
    "    \n",
    "plt.plot(lrs)\n",
    "plt.show()"
   ],
   "outputs": [
    {
     "data": {
      "text/plain": [
       "<Figure size 640x480 with 1 Axes>"
      ],
      "image/png": "[encoded data removed]"
     },
     "metadata": {},
     "output_type": "display_data"
    },
    {
     "data": {
      "text/plain": [
       "<Figure size 640x480 with 1 Axes>"
      ],
      "image/png": "[encoded data removed]"
     },
     "metadata": {},
     "output_type": "display_data"
    }
   ],
   "execution_count": 13
  },
  {
   "cell_type": "markdown",
   "metadata": {},
   "source": [
    "# Partial Labeling with ratio constraints"
   ]
  },
  {
   "cell_type": "code",
   "metadata": {
    "ExecuteTime": {
     "end_time": "2024-05-02T15:06:46.370915Z",
     "start_time": "2024-05-02T15:06:46.350282Z"
    }
   },
   "source": [
    "preds = torch.tensor([[0.91256185, 0.17851141, 0.22250389, 0.33196032, 0.39393268,0.06549098, 0.67783285, 0.45183095, 0.45786714, 0.40165077],\n",
    "       [0.70385266, 0.23925936, 0.7695696 , 0.42046439, 0.81585899,0.54890951, 0.7006783 , 0.23177555, 0.02604559, 0.47375653],\n",
    "       [0.35760887, 0.82051204, 0.568982  , 0.08858827, 0.84830185,0.15142244, 0.05623801, 0.52032449, 0.19970964, 0.52910059],\n",
    "       [0.05463184, 0.1481239 , 0.44760348, 0.58651152, 0.77316006,0.64567662, 0.35027898, 0.19289026, 0.80032864, 0.37215158]\n",
    "       ]\n",
    "       )\n",
    "\n",
    "perfect_preds = torch.tensor([\n",
    "    [0, 0, 0, 0, 0, 0, 0, 0, 1, 0],\n",
    "    [0, 0, 1/2, 0, 0, 0, 0, 1/2, 0, 0],\n",
    "    [1/3, 0, 0, 1/3, 0, 0, 0, 1/3, 0, 0],\n",
    "    [0, 0, 0, 0, 0, 0, 0, 1, 0, 0]\n",
    "    ])\n",
    "\n",
    "# Define the number of classes  \n",
    "num_classes = preds.shape[1]  \n",
    "\n",
    "# Create a tensor of labels  \n",
    "labels = [[8], [7, 2], [3, 8, 0], [7]]\n",
    "# print(f'labels : {labels}')\n",
    "tensor_labels = list()\n",
    "for ls in labels:\n",
    "    t = torch.zeros(num_classes, dtype=torch.long)\n",
    "    t[ls] = 1\n",
    "    tensor_labels.append(t)\n",
    "tensor_labels = torch.stack(tensor_labels)\n",
    "print(f'labels one hot : {tensor_labels}')"
   ],
   "outputs": [
    {
     "name": "stdout",
     "output_type": "stream",
     "text": [
      "labels one hot : tensor([[0, 0, 0, 0, 0, 0, 0, 0, 1, 0],\n",
      "        [0, 0, 1, 0, 0, 0, 0, 1, 0, 0],\n",
      "        [1, 0, 0, 1, 0, 0, 0, 0, 1, 0],\n",
      "        [0, 0, 0, 0, 0, 0, 0, 1, 0, 0]])\n"
     ]
    }
   ],
   "execution_count": 85
  },
  {
   "cell_type": "code",
   "metadata": {
    "ExecuteTime": {
     "end_time": "2024-05-02T15:06:47.068110Z",
     "start_time": "2024-05-02T15:06:47.055575Z"
    }
   },
   "source": [
    "print(preds)\n",
    "print(tensor_labels)"
   ],
   "outputs": [
    {
     "name": "stdout",
     "output_type": "stream",
     "text": [
      "tensor([[0.9126, 0.1785, 0.2225, 0.3320, 0.3939, 0.0655, 0.6778, 0.4518, 0.4579,\n",
      "         0.4017],\n",
      "        [0.7039, 0.2393, 0.7696, 0.4205, 0.8159, 0.5489, 0.7007, 0.2318, 0.0260,\n",
      "         0.4738],\n",
      "        [0.3576, 0.8205, 0.5690, 0.0886, 0.8483, 0.1514, 0.0562, 0.5203, 0.1997,\n",
      "         0.5291],\n",
      "        [0.0546, 0.1481, 0.4476, 0.5865, 0.7732, 0.6457, 0.3503, 0.1929, 0.8003,\n",
      "         0.3722]])\n",
      "tensor([[0, 0, 0, 0, 0, 0, 0, 0, 1, 0],\n",
      "        [0, 0, 1, 0, 0, 0, 0, 1, 0, 0],\n",
      "        [1, 0, 0, 1, 0, 0, 0, 0, 1, 0],\n",
      "        [0, 0, 0, 0, 0, 0, 0, 1, 0, 0]])\n"
     ]
    }
   ],
   "execution_count": 86
  },
  {
   "cell_type": "code",
   "metadata": {
    "ExecuteTime": {
     "end_time": "2024-05-02T15:06:48.057404Z",
     "start_time": "2024-05-02T15:06:47.994236Z"
    }
   },
   "source": [
    "b=torch.tensor([0.1 for i in range(10)])\n",
    "def solve_via_bregman(W, mask, ratio, max_iter=10, eps=1):\n",
    "    \"\"\"\n",
    "    1. Select elements of matrix to modify\n",
    "    2. Apply first projection on these elements (condition 1, \\sum mu_i =1)\n",
    "    3. Apply second projection on these elements (condition 2, \\sum mu_i on  =1)\n",
    "    \"\"\"\n",
    "    # Put everything on same device\n",
    "    W = W.to(device)\n",
    "    mask = mask.to(device)\n",
    "    ratio = ratio.to(device)\n",
    "    \n",
    "    not_mask = mask!=1\n",
    "    W = - W.clone() / eps\n",
    "    W[not_mask]=float(\"-inf\")\n",
    "    for _ in range(max_iter):\n",
    "        # Project on first constraint set (sum of columns = 1)\n",
    "        W = torch.log_softmax(W, dim=1)\n",
    "        # Project on second constraint set (sum of lines = b on constrained elements)\n",
    "        W = torch.log_softmax(W, dim=0) + torch.log(ratio)\n",
    "    return W.exp()\n",
    "\n",
    "log_sum_exp_Z = solve_via_bregman(preds, tensor_labels, b*len(train_data))\n",
    "\n",
    "print((log_sum_exp_Z))\n",
    "print(\"Sum on col for constrained classes (log_sum_exp_Z.sum(dim=1)) :\\n\", log_sum_exp_Z.sum(dim=1))\n",
    "print(\"Sum on rows (log_sum_exp_Z.sum(dim=0)) :\\n\", log_sum_exp_Z.sum(dim=0))"
   ],
   "outputs": [
    {
     "name": "stdout",
     "output_type": "stream",
     "text": [
      "tensor([[nan, nan, nan, nan, nan, nan, nan, nan, nan, nan],\n",
      "        [nan, nan, nan, nan, nan, nan, nan, nan, nan, nan],\n",
      "        [nan, nan, nan, nan, nan, nan, nan, nan, nan, nan],\n",
      "        [nan, nan, nan, nan, nan, nan, nan, nan, nan, nan]], device='mps:0')\n",
      "Sum on col for constrained classes (log_sum_exp_Z.sum(dim=1)) :\n",
      " tensor([nan, nan, nan, nan], device='mps:0')\n",
      "Sum on rows (log_sum_exp_Z.sum(dim=0)) :\n",
      " tensor([nan, nan, nan, nan, nan, nan, nan, nan, nan, nan], device='mps:0')\n"
     ]
    }
   ],
   "execution_count": 87
  },
  {
   "cell_type": "code",
   "metadata": {
    "ExecuteTime": {
     "end_time": "2024-05-02T15:06:49.325072Z",
     "start_time": "2024-05-02T15:06:49.307773Z"
    }
   },
   "source": [
    "w = torch.tensor([3., 2., -1., float('-inf')])\n",
    "w.log_softmax(dim=0).exp()\n",
    "\n",
    "def compute_logsumexp_z(W, mask, ratio):\n",
    "    W = W.to(device)\n",
    "    ratio = ratio.to(device)\n",
    "    mask = mask.to(device)\n",
    "    \n",
    "    ratio = ratio * W.shape[0]\n",
    "    \n",
    "    with torch.no_grad():\n",
    "        P = solve_via_bregman(W, mask, ratio)\n",
    "        \n",
    "    return (P*W).sum(dim=1) - torch.nan_to_num(P*P.log()).sum(dim=1)"
   ],
   "outputs": [],
   "execution_count": 88
  },
  {
   "cell_type": "code",
   "metadata": {
    "ExecuteTime": {
     "end_time": "2024-05-02T15:06:49.732717Z",
     "start_time": "2024-05-02T15:06:49.689407Z"
    }
   },
   "source": [
    "def nll_loss_eer(preds, labels, ratio):\n",
    "    # Perform Bregman Projections to inlcude Expected Entity Ratio on Z\n",
    "    log_sum_exp_Z = compute_logsumexp_z(preds, labels, ratio)\n",
    "    \n",
    "    # Calculate logsumexp on Y\n",
    "    log_sum_exp_Y = torch.logsumexp(preds, dim=1)\n",
    "    \n",
    "    loss = - log_sum_exp_Z.mean() + log_sum_exp_Y.mean()\n",
    "    return loss\n",
    "\n",
    "print(f'nll_loss_eer : {nll_loss_eer(preds, tensor_labels, b)}')"
   ],
   "outputs": [
    {
     "name": "stdout",
     "output_type": "stream",
     "text": [
      "nll_loss_eer : nan\n"
     ]
    }
   ],
   "execution_count": 89
  },
  {
   "cell_type": "code",
   "metadata": {
    "ExecuteTime": {
     "end_time": "2024-05-02T15:41:36.784007Z",
     "start_time": "2024-05-02T15:40:37.173075Z"
    }
   },
   "source": [
    "import matplotlib.pyplot as plt  \n",
    "  \n",
    "def count_correct_preds(predictions_one_hot, labels):  \n",
    "    num_correct = 0    \n",
    "    for i in range(predictions_one_hot.size(0)):    \n",
    "        pred = torch.argmax(predictions_one_hot[i])    \n",
    "        label = torch.nonzero(labels[i]).flatten()    \n",
    "        if pred in label:    \n",
    "            num_correct += 1    \n",
    "    return num_correct    \n",
    "  \n",
    "# hyper-parameters  \n",
    "batch_size = int(len(train_data))\n",
    "n_epochs = 10\n",
    "ratio = torch.tensor([0.1 for _ in range(10)])\n",
    "\n",
    "# Build the network  \n",
    "network = MLPClassifier(784, 200, 10)  \n",
    "network.to(device)\n",
    "\n",
    "optimizer = torch.optim.SGD(network.parameters(), lr=1, momentum=0.9)  \n",
    "  \n",
    "train_losses = []  \n",
    "dev_accs = []  \n",
    "\n",
    "start = time.time()\n",
    "\n",
    "for epoch in range(n_epochs):  \n",
    "    print(\"%i / %i\" % (epoch+1, n_epochs))  \n",
    "      \n",
    "    random.shuffle(train_data)  \n",
    "      \n",
    "    network.train()  \n",
    "    train_loss = 0\n",
    "      \n",
    "    for first_element in range(0, len(train_data), batch_size):  \n",
    "        optimizer.zero_grad()  \n",
    "          \n",
    "        batch_input, labels = build_batch_noised(train_data[first_element:first_element + batch_size], 10)\n",
    "        batch_input = batch_input.to(device)\n",
    "        labels = labels.to(device)\n",
    "        logits = network(batch_input)\n",
    "\n",
    "        # Modified loss to take into account partial labeling\n",
    "        loss = nll_loss_eer(F.softmax(logits, dim=1), labels, ratio)  \n",
    "        \n",
    "        print(loss)\n",
    "        \n",
    "        loss.backward(retain_graph=True)  \n",
    "        \n",
    "        optimizer.step()  \n",
    "        \n",
    "        train_loss += loss.item()  \n",
    "          \n",
    "    train_losses.append(train_loss /len(train_data))  \n",
    "\n",
    "    n_correct = 0  \n",
    "    with torch.no_grad():   \n",
    "        network.eval()\n",
    "\n",
    "        for first_element in range(0, len(dev_data), batch_size):  \n",
    "            batch_input, labels = build_batch_noised(dev_data[first_element:first_element + batch_size], 10)  \n",
    "            batch_input = batch_input.to(device)\n",
    "            labels = labels.to(device)\n",
    "            logits = network(batch_input)  \n",
    "            prediction = logits.argmax(dim=1)  \n",
    "              \n",
    "            n_correct += count_correct_preds(F.one_hot(prediction, num_classes=10), labels)  \n",
    "  \n",
    "    dev_acc = 100 * n_correct / len(dev_data)  \n",
    "    dev_accs.append(dev_acc)  \n",
    "    print(\"Dev acc: %.2f\" % dev_acc)\n",
    "      \n",
    "print(time.strftime(\"%H:%M:%S\", time.gmtime(time.time()-start)))\n",
    "\n",
    "# Plot the training loss and dev accuracy  \n",
    "plt.plot(train_losses)  \n",
    "plt.title('Training Loss')  \n",
    "plt.xlabel('Epoch')  \n",
    "plt.ylabel('Loss')  \n",
    "plt.show()  \n",
    "  \n",
    "plt.plot(dev_accs)  \n",
    "plt.title('Dev Accuracy')  \n",
    "plt.xlabel('Epoch')  \n",
    "plt.ylabel('Accuracy')  \n",
    "plt.show() "
   ],
   "outputs": [
    {
     "name": "stdout",
     "output_type": "stream",
     "text": [
      "1 / 10\n",
      "tensor(1.9788, device='mps:0', grad_fn=<AddBackward0>)\n",
      "torch.Size([10000, 784])\n",
      "Dev acc: 20.24\n",
      "2 / 10\n",
      "tensor(1.9723, device='mps:0', grad_fn=<AddBackward0>)\n",
      "torch.Size([10000, 784])\n",
      "Dev acc: 27.75\n",
      "3 / 10\n",
      "tensor(1.9581, device='mps:0', grad_fn=<AddBackward0>)\n",
      "torch.Size([10000, 784])\n",
      "Dev acc: 36.49\n",
      "4 / 10\n",
      "tensor(1.9331, device='mps:0', grad_fn=<AddBackward0>)\n",
      "torch.Size([10000, 784])\n",
      "Dev acc: 44.18\n",
      "5 / 10\n",
      "tensor(1.8935, device='mps:0', grad_fn=<AddBackward0>)\n",
      "torch.Size([10000, 784])\n",
      "Dev acc: 49.01\n",
      "6 / 10\n",
      "tensor(1.8417, device='mps:0', grad_fn=<AddBackward0>)\n",
      "torch.Size([10000, 784])\n",
      "Dev acc: 53.54\n",
      "7 / 10\n",
      "tensor(1.7919, device='mps:0', grad_fn=<AddBackward0>)\n",
      "torch.Size([10000, 784])\n",
      "Dev acc: 58.21\n",
      "8 / 10\n",
      "tensor(1.7511, device='mps:0', grad_fn=<AddBackward0>)\n",
      "torch.Size([10000, 784])\n",
      "Dev acc: 61.29\n",
      "9 / 10\n"
     ]
    },
    {
     "ename": "KeyboardInterrupt",
     "evalue": "",
     "output_type": "error",
     "traceback": [
      "\u001B[0;31m---------------------------------------------------------------------------\u001B[0m",
      "\u001B[0;31mKeyboardInterrupt\u001B[0m                         Traceback (most recent call last)",
      "\u001B[0;32m/var/folders/db/zhj9gnf900d35lzmsy2drjhh0000gn/T/ipykernel_4251/3046644171.py\u001B[0m in \u001B[0;36m<cell line: 28>\u001B[0;34m()\u001B[0m\n\u001B[1;32m     37\u001B[0m         \u001B[0moptimizer\u001B[0m\u001B[0;34m.\u001B[0m\u001B[0mzero_grad\u001B[0m\u001B[0;34m(\u001B[0m\u001B[0;34m)\u001B[0m\u001B[0;34m\u001B[0m\u001B[0;34m\u001B[0m\u001B[0m\n\u001B[1;32m     38\u001B[0m \u001B[0;34m\u001B[0m\u001B[0m\n\u001B[0;32m---> 39\u001B[0;31m         \u001B[0mbatch_input\u001B[0m\u001B[0;34m,\u001B[0m \u001B[0mlabels\u001B[0m \u001B[0;34m=\u001B[0m \u001B[0mbuild_batch_noised\u001B[0m\u001B[0;34m(\u001B[0m\u001B[0mtrain_data\u001B[0m\u001B[0;34m[\u001B[0m\u001B[0mfirst_element\u001B[0m\u001B[0;34m:\u001B[0m\u001B[0mfirst_element\u001B[0m \u001B[0;34m+\u001B[0m \u001B[0mbatch_size\u001B[0m\u001B[0;34m]\u001B[0m\u001B[0;34m,\u001B[0m \u001B[0;36m10\u001B[0m\u001B[0;34m)\u001B[0m\u001B[0;34m\u001B[0m\u001B[0;34m\u001B[0m\u001B[0m\n\u001B[0m\u001B[1;32m     40\u001B[0m         \u001B[0mbatch_input\u001B[0m \u001B[0;34m=\u001B[0m \u001B[0mbatch_input\u001B[0m\u001B[0;34m.\u001B[0m\u001B[0mto\u001B[0m\u001B[0;34m(\u001B[0m\u001B[0mdevice\u001B[0m\u001B[0;34m)\u001B[0m\u001B[0;34m\u001B[0m\u001B[0;34m\u001B[0m\u001B[0m\n\u001B[1;32m     41\u001B[0m         \u001B[0mlabels\u001B[0m \u001B[0;34m=\u001B[0m \u001B[0mlabels\u001B[0m\u001B[0;34m.\u001B[0m\u001B[0mto\u001B[0m\u001B[0;34m(\u001B[0m\u001B[0mdevice\u001B[0m\u001B[0;34m)\u001B[0m\u001B[0;34m\u001B[0m\u001B[0;34m\u001B[0m\u001B[0m\n",
      "\u001B[0;32m/var/folders/db/zhj9gnf900d35lzmsy2drjhh0000gn/T/ipykernel_4251/2818262327.py\u001B[0m in \u001B[0;36mbuild_batch_noised\u001B[0;34m(data, num_classes)\u001B[0m\n\u001B[1;32m      7\u001B[0m     \u001B[0mlabels\u001B[0m \u001B[0;34m=\u001B[0m \u001B[0;34m[\u001B[0m\u001B[0mdata\u001B[0m\u001B[0;34m[\u001B[0m\u001B[0;34m\"output_value\"\u001B[0m\u001B[0;34m]\u001B[0m \u001B[0;32mfor\u001B[0m \u001B[0mdata\u001B[0m \u001B[0;32min\u001B[0m \u001B[0mdata\u001B[0m\u001B[0;34m]\u001B[0m\u001B[0;34m\u001B[0m\u001B[0;34m\u001B[0m\u001B[0m\n\u001B[1;32m      8\u001B[0m \u001B[0;34m\u001B[0m\u001B[0m\n\u001B[0;32m----> 9\u001B[0;31m     \u001B[0mlabels\u001B[0m \u001B[0;34m=\u001B[0m \u001B[0;34m[\u001B[0m\u001B[0mF\u001B[0m\u001B[0;34m.\u001B[0m\u001B[0mone_hot\u001B[0m\u001B[0;34m(\u001B[0m\u001B[0mtorch\u001B[0m\u001B[0;34m.\u001B[0m\u001B[0mtensor\u001B[0m\u001B[0;34m(\u001B[0m\u001B[0ml\u001B[0m\u001B[0;34m)\u001B[0m\u001B[0;34m,\u001B[0m \u001B[0mnum_classes\u001B[0m \u001B[0;34m=\u001B[0m\u001B[0mnum_classes\u001B[0m\u001B[0;34m)\u001B[0m \u001B[0;32mif\u001B[0m \u001B[0misinstance\u001B[0m\u001B[0;34m(\u001B[0m\u001B[0ml\u001B[0m\u001B[0;34m,\u001B[0m\u001B[0mint\u001B[0m\u001B[0;34m)\u001B[0m \u001B[0;32melse\u001B[0m \u001B[0msum\u001B[0m\u001B[0;34m(\u001B[0m\u001B[0mF\u001B[0m\u001B[0;34m.\u001B[0m\u001B[0mone_hot\u001B[0m\u001B[0;34m(\u001B[0m\u001B[0mtorch\u001B[0m\u001B[0;34m.\u001B[0m\u001B[0mtensor\u001B[0m\u001B[0;34m(\u001B[0m\u001B[0ml\u001B[0m\u001B[0;34m)\u001B[0m\u001B[0;34m,\u001B[0m \u001B[0mnum_classes\u001B[0m \u001B[0;34m=\u001B[0m\u001B[0mnum_classes\u001B[0m\u001B[0;34m)\u001B[0m\u001B[0;34m)\u001B[0m \u001B[0;32mfor\u001B[0m \u001B[0ml\u001B[0m \u001B[0;32min\u001B[0m \u001B[0mlabels\u001B[0m\u001B[0;34m]\u001B[0m\u001B[0;34m\u001B[0m\u001B[0;34m\u001B[0m\u001B[0m\n\u001B[0m\u001B[1;32m     10\u001B[0m     \u001B[0mlabels\u001B[0m \u001B[0;34m=\u001B[0m \u001B[0mtorch\u001B[0m\u001B[0;34m.\u001B[0m\u001B[0mstack\u001B[0m\u001B[0;34m(\u001B[0m\u001B[0mlabels\u001B[0m\u001B[0;34m)\u001B[0m\u001B[0;34m\u001B[0m\u001B[0;34m\u001B[0m\u001B[0m\n\u001B[1;32m     11\u001B[0m \u001B[0;34m\u001B[0m\u001B[0m\n",
      "\u001B[0;32m/var/folders/db/zhj9gnf900d35lzmsy2drjhh0000gn/T/ipykernel_4251/2818262327.py\u001B[0m in \u001B[0;36m<listcomp>\u001B[0;34m(.0)\u001B[0m\n\u001B[1;32m      7\u001B[0m     \u001B[0mlabels\u001B[0m \u001B[0;34m=\u001B[0m \u001B[0;34m[\u001B[0m\u001B[0mdata\u001B[0m\u001B[0;34m[\u001B[0m\u001B[0;34m\"output_value\"\u001B[0m\u001B[0;34m]\u001B[0m \u001B[0;32mfor\u001B[0m \u001B[0mdata\u001B[0m \u001B[0;32min\u001B[0m \u001B[0mdata\u001B[0m\u001B[0;34m]\u001B[0m\u001B[0;34m\u001B[0m\u001B[0;34m\u001B[0m\u001B[0m\n\u001B[1;32m      8\u001B[0m \u001B[0;34m\u001B[0m\u001B[0m\n\u001B[0;32m----> 9\u001B[0;31m     \u001B[0mlabels\u001B[0m \u001B[0;34m=\u001B[0m \u001B[0;34m[\u001B[0m\u001B[0mF\u001B[0m\u001B[0;34m.\u001B[0m\u001B[0mone_hot\u001B[0m\u001B[0;34m(\u001B[0m\u001B[0mtorch\u001B[0m\u001B[0;34m.\u001B[0m\u001B[0mtensor\u001B[0m\u001B[0;34m(\u001B[0m\u001B[0ml\u001B[0m\u001B[0;34m)\u001B[0m\u001B[0;34m,\u001B[0m \u001B[0mnum_classes\u001B[0m \u001B[0;34m=\u001B[0m\u001B[0mnum_classes\u001B[0m\u001B[0;34m)\u001B[0m \u001B[0;32mif\u001B[0m \u001B[0misinstance\u001B[0m\u001B[0;34m(\u001B[0m\u001B[0ml\u001B[0m\u001B[0;34m,\u001B[0m\u001B[0mint\u001B[0m\u001B[0;34m)\u001B[0m \u001B[0;32melse\u001B[0m \u001B[0msum\u001B[0m\u001B[0;34m(\u001B[0m\u001B[0mF\u001B[0m\u001B[0;34m.\u001B[0m\u001B[0mone_hot\u001B[0m\u001B[0;34m(\u001B[0m\u001B[0mtorch\u001B[0m\u001B[0;34m.\u001B[0m\u001B[0mtensor\u001B[0m\u001B[0;34m(\u001B[0m\u001B[0ml\u001B[0m\u001B[0;34m)\u001B[0m\u001B[0;34m,\u001B[0m \u001B[0mnum_classes\u001B[0m \u001B[0;34m=\u001B[0m\u001B[0mnum_classes\u001B[0m\u001B[0;34m)\u001B[0m\u001B[0;34m)\u001B[0m \u001B[0;32mfor\u001B[0m \u001B[0ml\u001B[0m \u001B[0;32min\u001B[0m \u001B[0mlabels\u001B[0m\u001B[0;34m]\u001B[0m\u001B[0;34m\u001B[0m\u001B[0;34m\u001B[0m\u001B[0m\n\u001B[0m\u001B[1;32m     10\u001B[0m     \u001B[0mlabels\u001B[0m \u001B[0;34m=\u001B[0m \u001B[0mtorch\u001B[0m\u001B[0;34m.\u001B[0m\u001B[0mstack\u001B[0m\u001B[0;34m(\u001B[0m\u001B[0mlabels\u001B[0m\u001B[0;34m)\u001B[0m\u001B[0;34m\u001B[0m\u001B[0;34m\u001B[0m\u001B[0m\n\u001B[1;32m     11\u001B[0m \u001B[0;34m\u001B[0m\u001B[0m\n",
      "\u001B[0;31mKeyboardInterrupt\u001B[0m: "
     ]
    }
   ],
   "execution_count": 153
  },
  {
   "cell_type": "code",
   "metadata": {
    "ExecuteTime": {
     "end_time": "2024-05-02T14:22:52.998076Z",
     "start_time": "2024-05-02T14:22:52.964857Z"
    }
   },
   "source": [
    "X_train = [data['input_tensor'] for data in train_data]\n",
    "# ---------------------------------------------------------------\n",
    "Y_train = []\n",
    "for data in train_data:\n",
    "    if type(data['output_value'])==list:\n",
    "        Y_train.append(data['output_value'])\n",
    "    else:\n",
    "        Y_train.append([data['output_value']])\n",
    "# ---------------------------------------------------------------\n",
    "Y_dev = []\n",
    "for data in dev_data:\n",
    "    if type(data['output_value'])==list:\n",
    "        Y_dev.append(data['output_value'])\n",
    "    else:\n",
    "        Y_dev.append([data['output_value']])\n",
    "# ---------------------------------------------------------------\n",
    "label_list=np.unique([item for l in Y_train  for item in l])"
   ],
   "outputs": [],
   "execution_count": 14
  },
  {
   "metadata": {
    "ExecuteTime": {
     "end_time": "2024-05-02T14:22:54.185028Z",
     "start_time": "2024-05-02T14:22:54.161124Z"
    }
   },
   "cell_type": "code",
   "source": [
    "pad_token = -100\n",
    "# Pad Y from data to have the same length\n",
    "max_len = max([len(y) for y in Y_train])\n",
    "Y_train = [y + [pad_token]*(max_len-len(y)) for y in Y_train]\n",
    "print(Y_train[:10])"
   ],
   "outputs": [
    {
     "name": "stdout",
     "output_type": "stream",
     "text": [
      "[[3, 5, 0], [4, 3, 8], [4, -100, -100], [1, -100, -100], [2, -100, -100], [9, 5, 3], [8, 3, 4], [4, -100, -100], [4, -100, -100], [3, -100, -100]]\n"
     ]
    }
   ],
   "execution_count": 15
  },
  {
   "metadata": {
    "ExecuteTime": {
     "end_time": "2024-05-02T14:30:13.387750Z",
     "start_time": "2024-05-02T14:30:09.206053Z"
    }
   },
   "cell_type": "code",
   "source": "",
   "outputs": [
    {
     "name": "stdout",
     "output_type": "stream",
     "text": [
      "2\n"
     ]
    }
   ],
   "execution_count": 35
  },
  {
   "metadata": {
    "ExecuteTime": {
     "end_time": "2024-05-02T15:36:37.401044Z",
     "start_time": "2024-05-02T15:36:35.035946Z"
    }
   },
   "cell_type": "code",
   "source": [
    "import torch\n",
    "from torch.utils.data import DataLoader, Dataset\n",
    "import numpy as np\n",
    "\n",
    "\n",
    "class MNISTDataset(Dataset):\n",
    "    def __init__(self, data, labels):\n",
    "        self.data = data\n",
    "        self.labels = labels.copy()\n",
    "        # Convert labels to one hot encoding by ignoring the padding token\n",
    "        for i in range(len(self.labels)):\n",
    "            self.labels[i] = [item for item in self.labels[i] if item != -100]\n",
    "            self.labels[i] = F.one_hot(torch.tensor(self.labels[i]), num_classes=10).sum(dim=0)\n",
    "\n",
    "    def __len__(self):\n",
    "        return len(self.data)\n",
    "\n",
    "    def __getitem__(self, idx):\n",
    "        if torch.is_tensor(idx):\n",
    "            idx = idx.tolist()\n",
    "            \n",
    "        return self.data[idx], self.labels[idx]\n",
    "\n",
    "                \n",
    "class CustomSampler():\n",
    "    def __init__(self, data, ratio, batch_size):\n",
    "        self.ratio = ratio*len(data)\n",
    "        self.label_list = range(10)\n",
    "        self.indices_by_class = {label:[] for label in self.label_list if label != -100}\n",
    "        self.num_samples = len(data)\n",
    "        self.data = data\n",
    "        for i, y in enumerate(data):\n",
    "            for label in y :\n",
    "                if label != -100:\n",
    "                    self.indices_by_class[label].append(i)\n",
    "        \n",
    "        self.batch_size = batch_size\n",
    "    \n",
    "    def __iter__(self):\n",
    "        indices = 0\n",
    "        while indices < self.num_samples:\n",
    "            batch = []\n",
    "            # Modify the while test. It should not be on len(batch) but on the ratio of each class in the batch\n",
    "            while len(batch) < self.batch_size:\n",
    "                loop_ratio = self.ratio.clone()\n",
    "                norm_ratio = loop_ratio/loop_ratio.sum()\n",
    "                # Select a class\n",
    "                class_ = np.random.choice(range(10), p=norm_ratio)\n",
    "                # If there are still samples available for the selected class\n",
    "                if len(self.indices_by_class[class_]) > 0:\n",
    "                    chosen_idx = self.indices_by_class[class_].pop()\n",
    "                    # Pop an index from the list of indices for this class and add it to the batch\n",
    "                    batch.append(chosen_idx)\n",
    "                    # Update the ratio tensor by subtracting 1 from the count of the selected class\n",
    "                    indices += 1\n",
    "                    loop_ratio[class_] -= 1\n",
    "                    # Remove the selected index from the list of indices of other classes (in case it is a partial label)\n",
    "                    for label in self.data[chosen_idx]:\n",
    "                        if label != -100 and label != class_:\n",
    "                            self.indices_by_class[label].remove(chosen_idx)\n",
    "                            loop_ratio[label] -= 1\n",
    "            yield from iter(batch)\n",
    "\n",
    "    def __len__(self):\n",
    "        return self.num_samples\n",
    "    \n",
    "def collate_fn(batch):\n",
    "    inputs, labels = zip(*batch)\n",
    "    return torch.cat(inputs, dim=0), torch.stack(labels)\n",
    "\n",
    "# Usage\n",
    "batch_size = 10000  # Replace with your actual batch size\n",
    "ratio = torch.tensor([0.1*batch_size for _ in range(10)])  # Replace with your actual ratio\n",
    "sampler = CustomSampler(Y_train.copy(), ratio, batch_size)\n",
    "\n",
    "dataloader = DataLoader(MNISTDataset([data['input_tensor'] for data in train_data], Y_train), batch_size=batch_size, sampler=sampler, collate_fn=collate_fn)\n",
    "\n",
    "for batch in dataloader:\n",
    "    print(batch[0].shape, batch[1].shape)"
   ],
   "outputs": [
    {
     "name": "stdout",
     "output_type": "stream",
     "text": [
      "torch.Size([10000, 784]) torch.Size([10000, 10])\n",
      "torch.Size([10000, 784]) torch.Size([10000, 10])\n",
      "torch.Size([10000, 784]) torch.Size([10000, 10])\n",
      "torch.Size([10000, 784]) torch.Size([10000, 10])\n",
      "torch.Size([10000, 784]) torch.Size([10000, 10])\n"
     ]
    }
   ],
   "execution_count": 130
  },
  {
   "metadata": {
    "ExecuteTime": {
     "end_time": "2024-05-02T15:47:33.956125Z",
     "start_time": "2024-05-02T15:46:05.184784Z"
    }
   },
   "cell_type": "code",
   "source": [
    "# hyper-parameters  \n",
    "batch_size = 50000\n",
    "n_epochs = 10\n",
    "ratio = torch.tensor([0.1 for _ in range(10)])  # Replace with your actual ratio\n",
    "\n",
    "# DataLoader & Sampler\n",
    "train_sampler = CustomSampler(Y_train.copy(), ratio, batch_size)\n",
    "dev_sampler = CustomSampler(Y_dev.copy(), ratio, batch_size)\n",
    "\n",
    "train_dataloader = DataLoader(MNISTDataset([data['input_tensor'] for data in train_data], Y_train), batch_size=batch_size, sampler=train_sampler, collate_fn=collate_fn)\n",
    "dev_dataloader = DataLoader(MNISTDataset([data['input_tensor'] for data in dev_data], Y_dev), batch_size=10000, sampler=dev_sampler,  collate_fn=collate_fn)\n",
    "# Build the network  \n",
    "network = MLPClassifier(784, 200, 10)  \n",
    "network.to(device)\n",
    "\n",
    "optimizer = torch.optim.SGD(network.parameters(), lr=1, momentum=0.9)  \n",
    "  \n",
    "train_losses = []  \n",
    "dev_accs = []  \n",
    "\n",
    "start = time.time()\n",
    "\n",
    "print('Start training')\n",
    "for epoch in range(n_epochs):\n",
    "    train_sampler = CustomSampler(Y_train.copy(), ratio, batch_size)\n",
    "    dev_sampler = CustomSampler(Y_dev.copy(), ratio, 10000)\n",
    "    train_dataloader = DataLoader(MNISTDataset([data['input_tensor'] for data in train_data], Y_train), batch_size=batch_size, sampler=train_sampler, collate_fn=collate_fn)\n",
    "    dev_dataloader = DataLoader(MNISTDataset([data['input_tensor'] for data in dev_data], Y_dev), batch_size=10000, sampler=dev_sampler,  collate_fn=collate_fn)\n",
    "    print(\"%i / %i\" % (epoch+1, n_epochs))  \n",
    "          \n",
    "    network.train()  \n",
    "    train_loss = 0\n",
    "    for batch in train_dataloader:\n",
    "        optimizer.zero_grad()  \n",
    "          \n",
    "        batch_input, labels = batch\n",
    "        batch_input = batch_input.to(device)\n",
    "        labels = labels.to(device)\n",
    "        logits = network(batch_input)\n",
    "        \n",
    "        # Modified loss to take into account partial labeling\n",
    "        loss = nll_loss_eer(F.softmax(logits, dim=1), labels, ratio)  \n",
    "        print(loss)\n",
    "\n",
    "        loss.backward()  \n",
    "\n",
    "        optimizer.step()  \n",
    "        \n",
    "        train_loss += loss.item()  \n",
    "          \n",
    "    train_losses.append(train_loss /len(train_data))  \n",
    "\n",
    "    n_correct = 0  \n",
    "    with torch.no_grad():   \n",
    "        network.eval()\n",
    "        print('Evaluating...')\n",
    "        for batch in dev_dataloader:\n",
    "            batch_input, labels = batch\n",
    "            batch_input = batch_input.to(device)\n",
    "            labels = labels.to(device)\n",
    "            logits = network(batch_input)\n",
    "              \n",
    "            prediction = logits.argmax(dim=1)  \n",
    "              \n",
    "            n_correct += count_correct_preds(F.one_hot(prediction, num_classes=10), labels)  \n",
    "  \n",
    "    dev_acc = 100 * n_correct / len(dev_data)  \n",
    "    dev_accs.append(dev_acc)  \n",
    "    print(\"Dev acc: %.2f\" % dev_acc)\n",
    "      \n",
    "print(time.strftime(\"%H:%M:%S\", time.gmtime(time.time()-start)))\n",
    "\n",
    "# Plot the training loss and dev accuracy  \n",
    "plt.plot(train_losses)  \n",
    "plt.title('Training Loss')  \n",
    "plt.xlabel('Epoch')  \n",
    "plt.ylabel('Loss')  \n",
    "plt.show()  \n",
    "  \n",
    "plt.plot(dev_accs)  \n",
    "plt.title('Dev Accuracy')  \n",
    "plt.xlabel('Epoch')  \n",
    "plt.ylabel('Accuracy')  \n",
    "plt.show() "
   ],
   "outputs": [
    {
     "name": "stdout",
     "output_type": "stream",
     "text": [
      "Start training\n",
      "1 / 10\n",
      "tensor(1.9782, device='mps:0', grad_fn=<AddBackward0>)\n",
      "Evaluating...\n",
      "Dev acc: 5.14\n",
      "2 / 10\n",
      "tensor(1.9781, device='mps:0', grad_fn=<AddBackward0>)\n",
      "Evaluating...\n",
      "Dev acc: 5.25\n",
      "3 / 10\n",
      "tensor(1.9780, device='mps:0', grad_fn=<AddBackward0>)\n",
      "Evaluating...\n",
      "Dev acc: 5.32\n",
      "4 / 10\n",
      "tensor(1.9780, device='mps:0', grad_fn=<AddBackward0>)\n",
      "Evaluating...\n",
      "Dev acc: 5.47\n",
      "5 / 10\n",
      "tensor(1.9779, device='mps:0', grad_fn=<AddBackward0>)\n",
      "Evaluating...\n",
      "Dev acc: 5.78\n",
      "6 / 10\n",
      "tensor(1.9778, device='mps:0', grad_fn=<AddBackward0>)\n",
      "Evaluating...\n",
      "Dev acc: 5.95\n",
      "7 / 10\n",
      "tensor(1.9777, device='mps:0', grad_fn=<AddBackward0>)\n",
      "Evaluating...\n",
      "Dev acc: 6.17\n",
      "8 / 10\n",
      "tensor(1.9776, device='mps:0', grad_fn=<AddBackward0>)\n",
      "Evaluating...\n",
      "Dev acc: 6.27\n",
      "9 / 10\n",
      "tensor(1.9775, device='mps:0', grad_fn=<AddBackward0>)\n",
      "Evaluating...\n",
      "Dev acc: 6.50\n",
      "10 / 10\n",
      "tensor(1.9774, device='mps:0', grad_fn=<AddBackward0>)\n",
      "Evaluating...\n",
      "Dev acc: 6.69\n",
      "00:01:27\n"
     ]
    },
    {
     "data": {
      "text/plain": [
       "<Figure size 640x480 with 1 Axes>"
      ],
      "image/png": "[encoded data removed]"
     },
     "metadata": {},
     "output_type": "display_data"
    },
    {
     "data": {
      "text/plain": [
       "<Figure size 640x480 with 1 Axes>"
      ],
      "image/png": "[encoded data removed]"
     },
     "metadata": {},
     "output_type": "display_data"
    }
   ],
   "execution_count": 157
  },
  {
   "metadata": {},
   "cell_type": "code",
   "outputs": [
    {
     "data": {
      "text/plain": [
       "tensor([5000., 5000., 5000., 5000., 5000., 5000., 5000., 5000., 5000., 5000.])"
      ]
     },
     "execution_count": 128,
     "metadata": {},
     "output_type": "execute_result"
    }
   ],
   "execution_count": 128,
   "source": "ratio"
  },
  {
   "metadata": {
    "ExecuteTime": {
     "end_time": "2024-05-02T15:37:42.445873Z",
     "start_time": "2024-05-02T15:37:42.375255Z"
    }
   },
   "cell_type": "code",
   "source": [
    "preds = F.softmax(logits, dim=1)\n",
    "print(preds)\n",
    "print(labels)"
   ],
   "outputs": [
    {
     "name": "stdout",
     "output_type": "stream",
     "text": [
      "tensor([[0.0625, 0.0484, 0.0981,  ..., 0.2889, 0.1172, 0.0353],\n",
      "        [0.0430, 0.0931, 0.0602,  ..., 0.2314, 0.0221, 0.0601],\n",
      "        [0.0505, 0.1497, 0.1394,  ..., 0.1584, 0.0711, 0.0516],\n",
      "        ...,\n",
      "        [0.0896, 0.1185, 0.1115,  ..., 0.2042, 0.0605, 0.0435],\n",
      "        [0.0805, 0.1232, 0.1762,  ..., 0.1074, 0.0778, 0.0415],\n",
      "        [0.0627, 0.1267, 0.1280,  ..., 0.1135, 0.1115, 0.0598]],\n",
      "       device='mps:0', grad_fn=<SoftmaxBackward0>)\n",
      "tensor([[0, 0, 0,  ..., 0, 1, 0],\n",
      "        [0, 1, 0,  ..., 0, 0, 1],\n",
      "        [0, 0, 0,  ..., 1, 0, 0],\n",
      "        ...,\n",
      "        [0, 1, 0,  ..., 0, 0, 0],\n",
      "        [0, 1, 0,  ..., 0, 0, 0],\n",
      "        [0, 1, 0,  ..., 0, 0, 0]], device='mps:0')\n"
     ]
    }
   ],
   "execution_count": 137
  },
  {
   "metadata": {
    "ExecuteTime": {
     "end_time": "2024-05-02T15:40:00.175114Z",
     "start_time": "2024-05-02T15:40:00.107792Z"
    }
   },
   "cell_type": "code",
   "source": [
    "def solve_via_bregman(W, mask, ratio, max_iter=10, eps=1):\n",
    "    \"\"\"\n",
    "    1. Select elements of matrix to modify\n",
    "    2. Apply first projection on these elements (condition 1, \\sum mu_i =1)\n",
    "    3. Apply second projection on these elements (condition 2, \\sum mu_i on  =1)\n",
    "    \"\"\"\n",
    "    # Put everything on same device\n",
    "    W = W.to(device)\n",
    "    mask = mask.to(device)\n",
    "    ratio = ratio.to(device)\n",
    "    \n",
    "    not_mask = mask!=1\n",
    "    W = - W.clone() / eps\n",
    "    W[not_mask]=float(\"-inf\")\n",
    "    for _ in range(max_iter):\n",
    "        # Project on first constraint set (sum of columns = 1)\n",
    "        W = torch.log_softmax(W, dim=1)\n",
    "        # Project on second constraint set (sum of lines = b on constrained elements)\n",
    "        W = torch.log_softmax(W, dim=0) + torch.log(ratio)\n",
    "    return W.exp()\n",
    "\n",
    "log_sum_exp_Z = solve_via_bregman(preds, labels, ratio*len(train_data))\n",
    "\n",
    "print((log_sum_exp_Z))\n",
    "print(\"Sum on col for constrained classes (log_sum_exp_Z.sum(dim=1)) :\\n\", log_sum_exp_Z.sum(dim=1))\n",
    "print(\"Sum on rows (log_sum_exp_Z.sum(dim=0)) :\\n\", log_sum_exp_Z.sum(dim=0))"
   ],
   "outputs": [
    {
     "name": "stdout",
     "output_type": "stream",
     "text": [
      "tensor([[0.0000, 0.0000, 0.0000,  ..., 0.0000, 0.3393, 0.0000],\n",
      "        [0.0000, 0.2316, 0.0000,  ..., 0.0000, 0.0000, 0.3765],\n",
      "        [0.0000, 0.0000, 0.0000,  ..., 0.3033, 0.0000, 0.0000],\n",
      "        ...,\n",
      "        [0.0000, 0.9853, 0.0000,  ..., 0.0000, 0.0000, 0.0000],\n",
      "        [0.0000, 0.9853, 0.0000,  ..., 0.0000, 0.0000, 0.0000],\n",
      "        [0.0000, 0.9853, 0.0000,  ..., 0.0000, 0.0000, 0.0000]],\n",
      "       device='mps:0', grad_fn=<ExpBackward0>)\n",
      "Sum on col for constrained classes (log_sum_exp_Z.sum(dim=1)) :\n",
      " tensor([1.0003, 0.9975, 1.0007,  ..., 0.9853, 0.9853, 0.9853], device='mps:0',\n",
      "       grad_fn=<SumBackward1>)\n",
      "Sum on rows (log_sum_exp_Z.sum(dim=0)) :\n",
      " tensor([4999.9980, 4999.9990, 5000.0010, 4999.9990, 5000.0000, 5000.0010,\n",
      "        4999.9971, 4999.9980, 5000.0005, 5000.0000], device='mps:0',\n",
      "       grad_fn=<SumBackward1>)\n"
     ]
    }
   ],
   "execution_count": 152
  },
  {
   "metadata": {
    "ExecuteTime": {
     "end_time": "2024-05-02T15:39:39.880114Z",
     "start_time": "2024-05-02T15:39:39.832672Z"
    }
   },
   "cell_type": "code",
   "source": "log_sum_exp_Z.sum(dim=0)",
   "outputs": [
    {
     "data": {
      "text/plain": [
       "tensor([0.1000, 0.1000, 0.1000, 0.1000, 0.1000, 0.1000, 0.1000, 0.1000, 0.1000,\n",
       "        0.1000], device='mps:0', grad_fn=<SumBackward1>)"
      ]
     },
     "execution_count": 151,
     "metadata": {},
     "output_type": "execute_result"
    }
   ],
   "execution_count": 151
  },
  {
   "metadata": {},
   "cell_type": "code",
   "outputs": [],
   "execution_count": null,
   "source": ""
  }
 ],
 "metadata": {
  "kernelspec": {
   "display_name": "notebooks",
   "language": "python",
   "name": "notebooks"
  },
  "language_info": {
   "codemirror_mode": {
    "name": "ipython",
    "version": 3
   },
   "file_extension": ".py",
   "mimetype": "text/x-python",
   "name": "python",
   "nbconvert_exporter": "python",
   "pygments_lexer": "ipython3",
   "version": "3.11.5"
  }
 },
 "nbformat": 4,
 "nbformat_minor": 2
}
