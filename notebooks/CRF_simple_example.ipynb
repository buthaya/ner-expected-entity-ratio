{
 "cells": [
  {
   "metadata": {},
   "cell_type": "markdown",
   "source": "## Data",
   "id": "d539d0a3715d13c2"
  },
  {
   "metadata": {
    "ExecuteTime": {
     "end_time": "2024-05-16T13:04:13.811940Z",
     "start_time": "2024-05-16T13:04:13.801587Z"
    }
   },
   "cell_type": "code",
   "source": [
    "%load_ext autoreload\n",
    "%autoreload 2   "
   ],
   "id": "e7a9d2f124b3959b",
   "outputs": [
    {
     "name": "stdout",
     "output_type": "stream",
     "text": [
      "The autoreload extension is already loaded. To reload it, use:\n",
      "  %reload_ext autoreload\n"
     ]
    }
   ],
   "execution_count": 115
  },
  {
   "metadata": {
    "ExecuteTime": {
     "end_time": "2024-05-16T13:04:15.728878Z",
     "start_time": "2024-05-16T13:04:14.620853Z"
    }
   },
   "cell_type": "code",
   "source": [
    "# Generate simple data for experimenting a CRF model\n",
    "\n",
    "import numpy as np\n",
    "import pandas as pd\n",
    "from sklearn.model_selection import train_test_split\n",
    "import torch\n",
    "np.random.seed(0)\n",
    "\n",
    "n_samples = 1000\n",
    "n_features = 768\n",
    "n_states = 3\n",
    "\n",
    "X = np.random.randn(n_samples, n_features) # Sample like bert features\n",
    "y = np.random.randint(n_states, size=n_samples) # Random labels\n",
    "\n",
    "X_train, X_test, y_train, y_test = train_test_split(X, y, test_size=0.5)\n",
    "\n",
    "\n"
   ],
   "id": "23279214a767e4ff",
   "outputs": [],
   "execution_count": 116
  },
  {
   "metadata": {},
   "cell_type": "markdown",
   "source": "## torchcrf",
   "id": "9fcff0060257d20"
  },
  {
   "metadata": {
    "ExecuteTime": {
     "end_time": "2024-05-17T11:36:31.539198Z",
     "start_time": "2024-05-17T11:36:31.521966Z"
    }
   },
   "cell_type": "code",
   "source": [
    "features = emissions[:,1]\n",
    "unary_features = features.view(B, C).unsqueeze(1)\n",
    "transitions.unsqueeze(0).shape\n"
   ],
   "id": "f914e531521d9b65",
   "outputs": [
    {
     "data": {
      "text/plain": [
       "torch.Size([1, 2, 2])"
      ]
     },
     "execution_count": 491,
     "metadata": {},
     "output_type": "execute_result"
    }
   ],
   "execution_count": 491
  },
  {
   "metadata": {
    "ExecuteTime": {
     "end_time": "2024-05-17T12:29:25.623076Z",
     "start_time": "2024-05-17T12:29:25.598215Z"
    }
   },
   "cell_type": "code",
   "source": [
    "import torch\n",
    "from torchcrf import CRF\n",
    "torch.manual_seed(0)\n",
    "\n",
    "C = 2  \n",
    "N = 3  \n",
    "B = 1\n",
    "\n",
    "emissions = torch.randn(B, N, C) # emission scores = unary potentials\n",
    "transitions = torch.randn(C, C) # transition scores = binary potentials\n",
    "tags = torch.tensor([[0, 1, 1]], dtype=torch.long)  # (B, N)\n",
    "print(\"emissions\", emissions)\n",
    "print('transitions', transitions)\n",
    "print('tags', tags)\n",
    "\n",
    "model = CRF(C, batch_first=True)\n",
    "mask = torch.ones_like(tags, dtype=torch.uint8)\n",
    "\n",
    "log_num = model._compute_score(emissions.transpose(0,1), mask=mask.transpose(0,1), tags=tags.transpose(0,1))\n",
    "log_denom = model._compute_normalizer(emissions.transpose(0,1), mask.transpose(0,1))\n",
    "\n",
    "nll = log_num - log_denom\n",
    "print(\"nll: \", -nll.sum())\n",
    "# print('nll by torch crf :', -model(emissions, tags))"
   ],
   "id": "8a0e2518450f6497",
   "outputs": [
    {
     "name": "stdout",
     "output_type": "stream",
     "text": [
      "emissions tensor([[[ 1.5410, -0.2934],\n",
      "         [-2.1788,  0.5684],\n",
      "         [-1.0845, -1.3986]]])\n",
      "transitions tensor([[ 0.4033,  0.8380],\n",
      "        [-0.7193, -0.4033]])\n",
      "tags tensor([[0, 1, 1]])\n",
      "nll:  tensor(1.1161, grad_fn=<NegBackward0>)\n"
     ]
    }
   ],
   "execution_count": 618
  },
  {
   "metadata": {},
   "cell_type": "markdown",
   "source": "## torch_struct",
   "id": "eabb55c89aafa900"
  },
  {
   "metadata": {
    "ExecuteTime": {
     "end_time": "2024-05-17T12:35:25.122499Z",
     "start_time": "2024-05-17T12:35:25.105443Z"
    }
   },
   "cell_type": "code",
   "source": [
    "import torch_struct\n",
    "from torch_struct import LinearChainCRF\n",
    "print(\"B:\", B, \"N:\", N, \"C:\", C)\n",
    "lengths = torch.tensor([3])\n",
    "\n",
    "# Emission scores (output of encoder) # (B, N, C) (torchcrf) -> (B, N, C, 1) (torch_struct)\n",
    "emissions_struct = emissions.view(B, N, C, 1)\n",
    "print(\"emissions_struct\", emissions_struct)\n",
    "print(\"emissions_struct.shape\", emissions_struct.shape)\n",
    "\n",
    "# Transition scores                   # (C, C) (torchcrf) -> (1, 1, C, C) (torch_struct)\n",
    "transitions_struct = transitions.view(1, 1, C, C)\n",
    "print(\"transitions_struct\", transitions_struct)\n",
    "print(\"transitions_struct.shape\", transitions_struct.shape)\n",
    "\n",
    "# Score \n",
    "score = emissions_struct[:, 1:N] + transitions_struct\n",
    "print(\"score.shape\", score.shape)\n",
    "\n",
    "dist = torch_struct.LinearChainCRF(score)\n",
    "labels_edges = LinearChainCRF.struct.to_parts(tags.view(B, N), C, lengths=lengths).type_as(dist.log_potentials)\n",
    "print('nll', -dist.log_prob(labels_edges))"
   ],
   "id": "8ec9fe3899b1d3ec",
   "outputs": [
    {
     "name": "stdout",
     "output_type": "stream",
     "text": [
      "B: 1 N: 3 C: 2\n",
      "emissions_struct tensor([[[[ 1.5410],\n",
      "          [-0.2934]],\n",
      "\n",
      "         [[-2.1788],\n",
      "          [ 0.5684]],\n",
      "\n",
      "         [[-1.0845],\n",
      "          [-1.3986]]]])\n",
      "emissions_struct.shape torch.Size([1, 3, 2, 1])\n",
      "transitions_struct tensor([[[[ 0.4033,  0.8380],\n",
      "          [-0.7193, -0.4033]]]])\n",
      "transitions_struct.shape torch.Size([1, 1, 2, 2])\n",
      "score.shape torch.Size([1, 2, 2, 2])\n",
      "nll tensor([3.8205], grad_fn=<NegBackward0>)\n"
     ]
    }
   ],
   "execution_count": 633
  }
 ],
 "metadata": {
  "kernelspec": {
   "display_name": "notebooks",
   "language": "python",
   "name": "notebooks"
  },
  "language_info": {
   "codemirror_mode": {
    "name": "ipython",
    "version": 2
   },
   "file_extension": ".py",
   "mimetype": "text/x-python",
   "name": "python",
   "nbconvert_exporter": "python",
   "pygments_lexer": "ipython2",
   "version": "2.7.6"
  }
 },
 "nbformat": 4,
 "nbformat_minor": 5
}
